{
 "cells": [
  {
   "cell_type": "markdown",
   "metadata": {},
   "source": [
    "<h1>Set 2</h1>\n",
    "<h5>Challenge 9</h5>\n",
    "<p>Implement PKCS#7 padding</p>"
   ]
  },
  {
   "cell_type": "code",
   "execution_count": null,
   "metadata": {},
   "outputs": [],
   "source": [
    "from crypto import *\n",
    "\n",
    "plaintext = \"YELLOW SUBMARINE\"\n",
    "result = \"YELLOW SUBMARINE\\x04\\x04\\x04\\x04\"\n",
    "pkcs7padding(plaintext, 20) == result"
   ]
  },
  {
   "cell_type": "markdown",
   "metadata": {},
   "source": [
    "<h5>Challenge 10</h5>\n",
    "<p>Implement CBC</p>"
   ]
  },
  {
   "cell_type": "code",
   "execution_count": null,
   "metadata": {},
   "outputs": [],
   "source": [
    "with open(\"files/2_10.txt\", 'r') as f:\n",
    "    data = f.read()"
   ]
  },
  {
   "cell_type": "code",
   "execution_count": null,
   "metadata": {},
   "outputs": [],
   "source": [
    "key = b'YELLOW SUBMARINE'\n",
    "iv = b'\\x00\\x00\\x00 &c'\n",
    "cbc = CBC(key = key, iv = iv)\n",
    "print(cbc.decrypt(base642bytes(data)))"
   ]
  },
  {
   "cell_type": "markdown",
   "metadata": {},
   "source": [
    "<h5>Challenge 11</h5>\n",
    "<p>ECB/CBC detection oracle</p>"
   ]
  },
  {
   "cell_type": "code",
   "execution_count": null,
   "metadata": {},
   "outputs": [],
   "source": [
    "from crypto import *\n",
    "for i in range(10):\n",
    "    oracle = EncryptionOracle(\"xxxxxxxxxxxxxxxxxxxxxxxxxxxxxxxxxxxxxxxxxxxxxxxxxxxxxxxxxxxxxxxx\")\n",
    "    print(\"Guesser:\", oracle.guessMode() ,'Correct:',oracle.getMode())"
   ]
  },
  {
   "cell_type": "markdown",
   "metadata": {},
   "source": [
    "<h5>Challenge 12</h5>\n",
    "<p>Byte-at-a-time ECB decryption</p>"
   ]
  },
  {
   "cell_type": "code",
   "execution_count": null,
   "metadata": {},
   "outputs": [],
   "source": [
    "data = base642bytes('''Um9sbGluJyBpbiBteSA1LjAKV2l0aCBteSByYWctdG9wIGRvd24gc28gbXkg\n",
    "aGFpciBjYW4gYmxvdwpUaGUgZ2lybGllcyBvbiBzdGFuZGJ5IHdhdmluZyBq\n",
    "dXN0IHRvIHNheSBoaQpEaWQgeW91IHN0b3A/IE5vLCBJIGp1c3QgZHJvdmUg\n",
    "YnkK''')\n",
    "\n",
    "cracker = ECBCracker()\n",
    "cracker.findBlocksize()\n",
    "print(cracker.crack(data))"
   ]
  },
  {
   "cell_type": "code",
   "execution_count": null,
   "metadata": {},
   "outputs": [],
   "source": [
    "# challenge 13"
   ]
  },
  {
   "cell_type": "code",
   "execution_count": null,
   "metadata": {},
   "outputs": [],
   "source": [
    "from textoperations import *\n",
    "url = 'foo=bar&baz=qux&zap=zazzle'\n",
    "decodeURLParams(url)"
   ]
  },
  {
   "cell_type": "code",
   "execution_count": null,
   "metadata": {},
   "outputs": [],
   "source": [
    "profileFor(\"foo@bar.com\")"
   ]
  },
  {
   "cell_type": "code",
   "execution_count": null,
   "metadata": {},
   "outputs": [],
   "source": [
    "# sanity check\n",
    "profileFor(\"foo@bar.com&role=admin\")"
   ]
  },
  {
   "cell_type": "code",
   "execution_count": null,
   "metadata": {},
   "outputs": [],
   "source": [
    "# random aes key\n",
    "from crypto import *\n",
    "key = getRandomBytes(16)\n",
    "key"
   ]
  },
  {
   "cell_type": "code",
   "execution_count": null,
   "metadata": {},
   "outputs": [],
   "source": [
    "cipher = Cipher(key)\n",
    "ciphertext = cipher.encryptECB(profileFor(\"foo@bar.com\"))\n",
    "ciphertext"
   ]
  },
  {
   "cell_type": "code",
   "execution_count": null,
   "metadata": {},
   "outputs": [],
   "source": [
    "cipher.decryptECB(ciphertext)"
   ]
  },
  {
   "cell_type": "code",
   "execution_count": null,
   "metadata": {},
   "outputs": [],
   "source": [
    "# using only input to profileFor & operations on ciphertext to create role=admin\n",
    "# find out length of mail to isolate role, user has 4 letters, therefore to have \n",
    "# it in a single block make mail length of block + 4\n",
    "# -> 13"
   ]
  },
  {
   "cell_type": "code",
   "execution_count": null,
   "metadata": {},
   "outputs": [],
   "source": [
    "for i in range(5,11):\n",
    "    print(\"LenMail:\", i, \"LenCiphertext:\" ,len(cipher.encryptECB(profileFor('x' * i))))"
   ]
  },
  {
   "cell_type": "code",
   "execution_count": null,
   "metadata": {},
   "outputs": [],
   "source": [
    " ciphertext = cipher.encryptECB(profileFor('x' * 13))"
   ]
  },
  {
   "cell_type": "code",
   "execution_count": null,
   "metadata": {},
   "outputs": [],
   "source": [
    "cipher.decryptECB(ciphertext)"
   ]
  },
  {
   "cell_type": "code",
   "execution_count": null,
   "metadata": {},
   "outputs": [],
   "source": [
    "len(ciphertext[:16])"
   ]
  },
  {
   "cell_type": "code",
   "execution_count": null,
   "metadata": {},
   "outputs": [],
   "source": [
    "print(cipher.decryptECB(ciphertext[32:]))\n",
    "len(ciphertext[32:])"
   ]
  },
  {
   "cell_type": "code",
   "execution_count": null,
   "metadata": {},
   "outputs": [],
   "source": [
    "# next i need a valid padded block of admin\n",
    "pkcs7padding('admin')"
   ]
  },
  {
   "cell_type": "code",
   "execution_count": null,
   "metadata": {},
   "outputs": [],
   "source": [
    "# since 'email=' is before, i need to add 10 signs in front\n",
    "pad = 'x' * 10\n",
    "ciphertext2 = cipher.encryptECB(profileFor(pad + pkcs7padding('admin')))"
   ]
  },
  {
   "cell_type": "code",
   "execution_count": null,
   "metadata": {},
   "outputs": [],
   "source": [
    "cipher.decryptECB(ciphertext2[16:32])"
   ]
  },
  {
   "cell_type": "code",
   "execution_count": null,
   "metadata": {},
   "outputs": [],
   "source": [
    "front = ciphertext[:32]\n",
    "front"
   ]
  },
  {
   "cell_type": "code",
   "execution_count": null,
   "metadata": {},
   "outputs": [],
   "source": [
    "back = ciphertext2[16:32]\n",
    "back"
   ]
  },
  {
   "cell_type": "code",
   "execution_count": null,
   "metadata": {},
   "outputs": [],
   "source": [
    "cipher.decryptECB(front + back)"
   ]
  },
  {
   "cell_type": "code",
   "execution_count": null,
   "metadata": {},
   "outputs": [],
   "source": [
    "  from crypto import *"
   ]
  },
  {
   "cell_type": "code",
   "execution_count": null,
   "metadata": {},
   "outputs": [],
   "source": [
    "test1 = \"ICE ICE BABY\\x04\\x04\\x04\\x04\"\n",
    "test2 = \"ICE ICE BABY\\x05\\x05\\x05\\x05\"\n",
    "test3 = \"ICE ICE BABY\\x01\\x02\\x03\\x04\""
   ]
  },
  {
   "cell_type": "code",
   "execution_count": null,
   "metadata": {},
   "outputs": [],
   "source": [
    "removepkcs7padding(test1)"
   ]
  },
  {
   "cell_type": "code",
   "execution_count": null,
   "metadata": {},
   "outputs": [],
   "source": [
    "removepkcs7padding(test2)"
   ]
  },
  {
   "cell_type": "code",
   "execution_count": null,
   "metadata": {},
   "outputs": [],
   "source": [
    "removepkcs7padding(test3)"
   ]
  },
  {
   "cell_type": "code",
   "execution_count": 1,
   "metadata": {},
   "outputs": [],
   "source": [
    "# challenge 14\n",
    "from crypto import *\n",
    "from random import randint"
   ]
  },
  {
   "cell_type": "code",
   "execution_count": 20,
   "metadata": {},
   "outputs": [],
   "source": [
    "paddingFront = randint(1,10)\n",
    "bytesFront = getRandomBytes(paddingFront)\n",
    "data = base642bytes('''Um9sbGluJyBpbiBteSA1LjAKV2l0aCBteSByYWctdG9wIGRvd24gc28gbXkg\n",
    "aGFpciBjYW4gYmxvdwpUaGUgZ2lybGllcyBvbiBzdGFuZGJ5IHdhdmluZyBq\n",
    "dXN0IHRvIHNheSBoaQpEaWQgeW91IHN0b3A/IE5vLCBJIGp1c3QgZHJvdmUg\n",
    "YnkK''')"
   ]
  },
  {
   "cell_type": "code",
   "execution_count": 78,
   "metadata": {},
   "outputs": [],
   "source": [
    "cracker = ECBCracker()\n",
    "cracker.findBlocksize()"
   ]
  },
  {
   "cell_type": "code",
   "execution_count": 8,
   "metadata": {},
   "outputs": [],
   "source": [
    "# padding in front does not really matter if it can be isolated\n",
    "# therefore \"finding\" the size of bytes at front\n",
    "# then completly isolating them with RRRR RRRx xxxx xxxx // xxxx xxxx xxxx xxxx \n",
    "# and removing first block"
   ]
  },
  {
   "cell_type": "code",
   "execution_count": null,
   "metadata": {},
   "outputs": [],
   "source": [
    "# i can find out the size of the padding by adding a lot of x and check until the first block\n",
    "# does not change anymore, which indicates, that they reach now into the 3rd block"
   ]
  },
  {
   "cell_type": "code",
   "execution_count": null,
   "metadata": {},
   "outputs": [],
   "source": []
  },
  {
   "cell_type": "code",
   "execution_count": 24,
   "metadata": {},
   "outputs": [
    {
     "name": "stdout",
     "output_type": "stream",
     "text": [
      "Stopped changing at len: 10\n",
      "Random number is: 7\n"
     ]
    }
   ],
   "source": [
    "lastBlock = getRandomBytes(16)\n",
    "guessedPadLen = -1\n",
    "for i in range(16):\n",
    "    tmpCiphertext = cracker.encryptWithPadding(bytesFront, b'x' * i, data)[:16]\n",
    "    if tmpCiphertext == lastBlock:\n",
    "        guessedPadLen = 16 - i + 1\n",
    "        print(\"Stopped changing at len:\", i)\n",
    "        print(\"Random number is:\", guessedPadLen)\n",
    "        break\n",
    "    else:\n",
    "        lastBlock = tmpCiphertext"
   ]
  },
  {
   "cell_type": "code",
   "execution_count": 38,
   "metadata": {},
   "outputs": [],
   "source": [
    "# now that i know the size of the random strings, i can just fill first block & second block \n",
    "# and do as before\n",
    "plaintext = []\n",
    "\n",
    "# buffer of known chars\n",
    "buffer = b'x' * (15) + b'x' * (16 - guessedPadLen)\n",
    "\n",
    "# make char dict\n",
    "charDict = cracker.makeCharDict()\n",
    "\n",
    "# len of message \n",
    "msgSize = len(cracker.encryptWithPadding(bytesFront, b'', data)) - guessedPadLen"
   ]
  },
  {
   "cell_type": "code",
   "execution_count": 77,
   "metadata": {},
   "outputs": [
    {
     "name": "stdout",
     "output_type": "stream",
     "text": [
      "Rollin' in my 5.0\n",
      "With my rag-top down so my hair can blow\n",
      "The girlies on standby waving just to say hi\n",
      "Did you stop? No, I just drove by\n",
      "\n"
     ]
    }
   ],
   "source": [
    "plaintext = []\n",
    "for i in range(msgSize):\n",
    "    toEncrypt = (bytesFront +  buffer + bytes([data[i]]))[16:32]\n",
    "    tmpCiphertext = cracker.cipher.encryptBlockECB(toEncrypt)\n",
    "    plaintext.append(charDict[tmpCiphertext])\n",
    "print(b''.join(plaintext).decode('utf-8'))\n",
    "    \n",
    "    "
   ]
  },
  {
   "cell_type": "code",
   "execution_count": 64,
   "metadata": {},
   "outputs": [
    {
     "data": {
      "text/plain": [
       "138"
      ]
     },
     "execution_count": 64,
     "metadata": {},
     "output_type": "execute_result"
    }
   ],
   "source": [
    "len(data)"
   ]
  },
  {
   "cell_type": "code",
   "execution_count": 65,
   "metadata": {},
   "outputs": [
    {
     "data": {
      "text/plain": [
       "153"
      ]
     },
     "execution_count": 65,
     "metadata": {},
     "output_type": "execute_result"
    }
   ],
   "source": [
    "msgSize = len(cracker.encrypt(bytesFront, data)) - guessedPadLen\n",
    "msgSize"
   ]
  },
  {
   "cell_type": "code",
   "execution_count": 71,
   "metadata": {},
   "outputs": [
    {
     "name": "stdout",
     "output_type": "stream",
     "text": [
      "138\n"
     ]
    }
   ],
   "source": [
    "# find length of data \n",
    "start = 16-guessedPadLen\n",
    "end = start +16\n",
    "fullSize = len(cracker.encryptWithPadding(bytesFront, b'', data))\n",
    "msgSize = -1\n",
    "last = len(cracker.encryptWithPadding(bytesFront, b'x' * start, data))\n",
    "for i in range(start + 1, end):\n",
    "    if len(cracker.encryptWithPadding(bytesFront, b'x' * i, data)) != last:\n",
    "        msgSize = fullSize - i - guessedPadLen + 1\n",
    "        break\n",
    "print(msgSize)"
   ]
  },
  {
   "cell_type": "code",
   "execution_count": 55,
   "metadata": {},
   "outputs": [
    {
     "data": {
      "text/plain": [
       "160"
      ]
     },
     "execution_count": 55,
     "metadata": {},
     "output_type": "execute_result"
    }
   ],
   "source": [
    "# len of data -> 153 - 15\n",
    "fullSize"
   ]
  },
  {
   "cell_type": "code",
   "execution_count": null,
   "metadata": {},
   "outputs": [],
   "source": []
  }
 ],
 "metadata": {
  "kernelspec": {
   "display_name": "Python 3",
   "language": "python",
   "name": "python3"
  },
  "language_info": {
   "codemirror_mode": {
    "name": "ipython",
    "version": 3
   },
   "file_extension": ".py",
   "mimetype": "text/x-python",
   "name": "python",
   "nbconvert_exporter": "python",
   "pygments_lexer": "ipython3",
   "version": "3.6.8"
  }
 },
 "nbformat": 4,
 "nbformat_minor": 2
}
