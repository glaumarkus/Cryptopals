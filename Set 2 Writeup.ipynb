{
 "cells": [
  {
   "cell_type": "markdown",
   "metadata": {},
   "source": [
    "<h1>Set 2</h1>\n",
    "<h5>Challenge 9</h5>\n",
    "<p>Implement PKCS#7 padding</p>"
   ]
  },
  {
   "cell_type": "code",
   "execution_count": 110,
   "metadata": {},
   "outputs": [
    {
     "data": {
      "text/plain": [
       "True"
      ]
     },
     "execution_count": 110,
     "metadata": {},
     "output_type": "execute_result"
    }
   ],
   "source": [
    "def pkcs7padding(plaintext, blocksize):\n",
    "    size = len(plaintext)\n",
    "    numBlocks = size // blocksize + 1\n",
    "    numPads = blocksize % size\n",
    "    return plaintext + bytes2str(numPads * (numPads).to_bytes(1, byteorder='little'))\n",
    "\n",
    "plaintext = \"YELLOW SUBMARINE\"\n",
    "result = \"YELLOW SUBMARINE\\x04\\x04\\x04\\x04\"\n",
    "pkcs7padding(plaintext, 20) == result"
   ]
  },
  {
   "cell_type": "markdown",
   "metadata": {},
   "source": [
    "<h5>Challenge 10</h5>\n",
    "<p>Implement CBC</p>"
   ]
  },
  {
   "cell_type": "code",
   "execution_count": null,
   "metadata": {},
   "outputs": [],
   "source": [
    "from crypto import *\n",
    "\n",
    "class CBC:\n",
    "    def __init__(self, key, iv):\n",
    "        self.key = key\n",
    "        self.iv = iv\n",
    "    def encrypt(self,plaintext):\n",
    "        \n",
    "        \n",
    "        ciphertext = XOR(str2bytes(plaintext), self.key)\n",
    "        \n",
    "        ciphertext = \n",
    "        return plaintext\n",
    "    def decrypt(self,plaintext):\n",
    "        return ciphertext"
   ]
  },
  {
   "cell_type": "code",
   "execution_count": null,
   "metadata": {},
   "outputs": [],
   "source": [
    "'this is a text'"
   ]
  },
  {
   "cell_type": "code",
   "execution_count": null,
   "metadata": {},
   "outputs": [],
   "source": []
  },
  {
   "cell_type": "code",
   "execution_count": null,
   "metadata": {},
   "outputs": [],
   "source": []
  },
  {
   "cell_type": "code",
   "execution_count": null,
   "metadata": {},
   "outputs": [],
   "source": []
  },
  {
   "cell_type": "code",
   "execution_count": null,
   "metadata": {},
   "outputs": [],
   "source": []
  },
  {
   "cell_type": "code",
   "execution_count": null,
   "metadata": {},
   "outputs": [],
   "source": []
  },
  {
   "cell_type": "code",
   "execution_count": null,
   "metadata": {},
   "outputs": [],
   "source": []
  },
  {
   "cell_type": "code",
   "execution_count": null,
   "metadata": {},
   "outputs": [],
   "source": []
  },
  {
   "cell_type": "code",
   "execution_count": null,
   "metadata": {},
   "outputs": [],
   "source": []
  }
 ],
 "metadata": {
  "kernelspec": {
   "display_name": "Python 3",
   "language": "python",
   "name": "python3"
  },
  "language_info": {
   "codemirror_mode": {
    "name": "ipython",
    "version": 3
   },
   "file_extension": ".py",
   "mimetype": "text/x-python",
   "name": "python",
   "nbconvert_exporter": "python",
   "pygments_lexer": "ipython3",
   "version": "3.7.4"
  }
 },
 "nbformat": 4,
 "nbformat_minor": 2
}
