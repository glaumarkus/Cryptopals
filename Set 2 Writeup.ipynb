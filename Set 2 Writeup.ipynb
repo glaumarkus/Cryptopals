{
 "cells": [
  {
   "cell_type": "markdown",
   "metadata": {},
   "source": [
    "<h1>Set 2</h1>\n",
    "<h5>Challenge 9</h5>\n",
    "<p>Implement PKCS#7 padding</p>"
   ]
  },
  {
   "cell_type": "code",
   "execution_count": 110,
   "metadata": {},
   "outputs": [
    {
     "data": {
      "text/plain": [
       "True"
      ]
     },
     "execution_count": 110,
     "metadata": {},
     "output_type": "execute_result"
    }
   ],
   "source": [
    "def pkcs7padding(plaintext, blocksize):\n",
    "    size = len(plaintext)\n",
    "    numBlocks = size // blocksize + 1\n",
    "    numPads = blocksize % size\n",
    "    return plaintext + bytes2str(numPads * (numPads).to_bytes(1, byteorder='little'))\n",
    "\n",
    "plaintext = \"YELLOW SUBMARINE\"\n",
    "result = \"YELLOW SUBMARINE\\x04\\x04\\x04\\x04\"\n",
    "pkcs7padding(plaintext, 20) == result"
   ]
  },
  {
   "cell_type": "markdown",
   "metadata": {},
   "source": [
    "<h5>Challenge 10</h5>\n",
    "<p>Implement CBC</p>"
   ]
  },
  {
   "cell_type": "code",
   "execution_count": null,
   "metadata": {},
   "outputs": [],
   "source": [
    "from crypto import *\n",
    "\n",
    "class CBC:\n",
    "    def __init__(self, key, iv):\n",
    "        self.key = key\n",
    "        self.iv = iv\n",
    "    \n",
    "    def encryptBlock(self, block, prevBlock, it):\n",
    "        \n",
    "        \n",
    "        to_encrypt = XOR(block, prevBlock)\n",
    "        new_block = \n",
    "        \n",
    "        text = XOR(text, key)\n",
    "        \n",
    "        \n",
    "        \n",
    "        \n",
    "        \n",
    "        if it == 3:\n",
    "            return ciphertext\n",
    "        \n",
    "        \n",
    "    def encrypt(self,plaintext):\n",
    "        \n",
    "        blocksize = 16\n",
    "        \n",
    "        for \n",
    "        \n",
    "        \n",
    "        \n",
    "        \n",
    "        \n",
    "        ciphertext = XOR(str2bytes(plaintext), self.key)\n",
    "        \n",
    "        ciphertext = \n",
    "        return plaintext\n",
    "    def decrypt(self,plaintext):\n",
    "        return ciphertext"
   ]
  },
  {
   "cell_type": "code",
   "execution_count": null,
   "metadata": {},
   "outputs": [],
   "source": [
    "'this is a text'"
   ]
  },
  {
   "cell_type": "code",
   "execution_count": null,
   "metadata": {},
   "outputs": [],
   "source": [
    "block = 'block'\n"
   ]
  },
  {
   "cell_type": "code",
   "execution_count": 3,
   "metadata": {},
   "outputs": [],
   "source": [
    "from math import ceil\n",
    "def makeAESBlocks(data,blocksize=16):\n",
    "    numBlocks = ceil(len(data) / blocksize)\n",
    "    return [data[i * blocksize : i * blocksize + blocksize] for i in range(numBlocks)]"
   ]
  },
  {
   "cell_type": "code",
   "execution_count": 4,
   "metadata": {},
   "outputs": [
    {
     "data": {
      "text/plain": [
       "['MARKUS ABC MARKU', 'S ABC']"
      ]
     },
     "execution_count": 4,
     "metadata": {},
     "output_type": "execute_result"
    }
   ],
   "source": [
    "makeAESBlocks('MARKUS ABC MARKUS ABC')"
   ]
  },
  {
   "cell_type": "code",
   "execution_count": 5,
   "metadata": {},
   "outputs": [],
   "source": [
    "from Crypto.Cipher import AES\n",
    "def encryptAESBlock(data, key):\n",
    "    pass\n",
    "    "
   ]
  },
  {
   "cell_type": "code",
   "execution_count": null,
   "metadata": {},
   "outputs": [],
   "source": [
    "def decrypt(data, key, mode=AES.MODE_ECB):\n",
    "\tenc = base64.b64decode(data)\n",
    "\tcipher = AES.new(key, mode)\n",
    "\treturn cipher.decrypt(enc)"
   ]
  },
  {
   "cell_type": "code",
   "execution_count": 6,
   "metadata": {},
   "outputs": [],
   "source": [
    "block = makeAESBlocks('MARKUS ABC MARKUS ABC')[0]"
   ]
  },
  {
   "cell_type": "code",
   "execution_count": 7,
   "metadata": {},
   "outputs": [
    {
     "data": {
      "text/plain": [
       "'MARKUS ABC MARKU'"
      ]
     },
     "execution_count": 7,
     "metadata": {},
     "output_type": "execute_result"
    }
   ],
   "source": [
    "block"
   ]
  },
  {
   "cell_type": "code",
   "execution_count": 12,
   "metadata": {},
   "outputs": [
    {
     "data": {
      "text/plain": [
       "bytearray(b'MARKUS ABC MARKU')"
      ]
     },
     "execution_count": 12,
     "metadata": {},
     "output_type": "execute_result"
    }
   ],
   "source": [
    "import base64\n",
    "from converters import *\n",
    "str2bytes(block)"
   ]
  },
  {
   "cell_type": "code",
   "execution_count": 16,
   "metadata": {},
   "outputs": [],
   "source": [
    "cipher = AES.new('YELLOW SUBMARINE', AES.MODE_ECB)"
   ]
  },
  {
   "cell_type": "code",
   "execution_count": 21,
   "metadata": {},
   "outputs": [
    {
     "data": {
      "text/plain": [
       "b'\\xee\\n\\xf1s\\xc0\\xc1\\xbam\\x85\\xdc\\x95\\x86\\x13\\xb7\\x81i'"
      ]
     },
     "execution_count": 21,
     "metadata": {},
     "output_type": "execute_result"
    }
   ],
   "source": [
    "cipher.encrypt(b'MARKUS ABC MARKU')"
   ]
  },
  {
   "cell_type": "code",
   "execution_count": 22,
   "metadata": {},
   "outputs": [
    {
     "data": {
      "text/plain": [
       "b'MARKUS ABC MARKU'"
      ]
     },
     "execution_count": 22,
     "metadata": {},
     "output_type": "execute_result"
    }
   ],
   "source": [
    "cipher.decrypt(b'\\xee\\n\\xf1s\\xc0\\xc1\\xbam\\x85\\xdc\\x95\\x86\\x13\\xb7\\x81i')"
   ]
  },
  {
   "cell_type": "code",
   "execution_count": 23,
   "metadata": {},
   "outputs": [],
   "source": [
    "def encryptBlock(plaintext, key):\n",
    "    cipher = AES.new(key, AES.MODE_ECB)\n",
    "    ciphertext = cipher.encrypt(plaintext)\n",
    "    return ciphertext\n",
    "\n",
    "def decryptBlock(ciphertext, key):\n",
    "    cipher = AES.new(key, AES.MODE_ECB)\n",
    "    plaintext = cipher.decrypt(ciphertext)\n",
    "    return plaintext"
   ]
  },
  {
   "cell_type": "code",
   "execution_count": null,
   "metadata": {},
   "outputs": [],
   "source": [
    "def encryptCBCBlock(plaintext, key, iv):\n",
    "    https://cedricvanrompay.gitlab.io/cryptopals/challenges/09-to-13.html\n",
    "    \n",
    "    \n",
    "    \n",
    "    "
   ]
  }
 ],
 "metadata": {
  "kernelspec": {
   "display_name": "Python 3",
   "language": "python",
   "name": "python3"
  },
  "language_info": {
   "codemirror_mode": {
    "name": "ipython",
    "version": 3
   },
   "file_extension": ".py",
   "mimetype": "text/x-python",
   "name": "python",
   "nbconvert_exporter": "python",
   "pygments_lexer": "ipython3",
   "version": "3.7.4"
  }
 },
 "nbformat": 4,
 "nbformat_minor": 2
}
