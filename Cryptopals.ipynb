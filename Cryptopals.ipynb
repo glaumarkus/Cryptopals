{
 "cells": [
  {
   "cell_type": "markdown",
   "metadata": {},
   "source": [
    "<h1>Set 1</h1>\n",
    "<h5>Challenge 1</h5>\n",
    "<p>Convert hex to base64</p>"
   ]
  },
  {
   "cell_type": "code",
   "execution_count": 501,
   "metadata": {},
   "outputs": [],
   "source": [
    "# converters \n",
    "import codecs\n",
    "import base64\n",
    "\n",
    "def str2bytes(string):\n",
    "    return bytearray(string, 'utf8')\n",
    "\n",
    "def hex2bytes(hexin):\n",
    "    return bytearray.fromhex(hexin)\n",
    "\n",
    "def base642bytes(base64in):\n",
    "    return base64.b64decode(base64in.encode('utf-8'))\n",
    "\n",
    "def bytes2str(bytesin):\n",
    "    return bytesin.decode(\"utf8\", errors='replace')\n",
    "    \n",
    "def bytes2hex(bytesin):\n",
    "    return codecs.encode(bytesin, encoding='hex')\n",
    "\n",
    "def bytes2base64(bytesin):\n",
    "    return codecs.encode(bytesin, encoding='base64')"
   ]
  },
  {
   "cell_type": "code",
   "execution_count": 56,
   "metadata": {},
   "outputs": [],
   "source": [
    "hexstring = '49276d206b696c6c696e6720796f757220627261696e206c696b65206120706f69736f6e6f7573206d757368726f6f6d'\n",
    "correct = b'SSdtIGtpbGxpbmcgeW91ciBicmFpbiBsaWtlIGEgcG9pc29ub3VzIG11c2hyb29t'"
   ]
  },
  {
   "cell_type": "code",
   "execution_count": 63,
   "metadata": {},
   "outputs": [
    {
     "data": {
      "text/plain": [
       "True"
      ]
     },
     "execution_count": 63,
     "metadata": {},
     "output_type": "execute_result"
    }
   ],
   "source": [
    "bytes2base64(hex2bytes(hexstring)).strip() == correct"
   ]
  },
  {
   "cell_type": "markdown",
   "metadata": {},
   "source": [
    "<h5>Challenge 2</h5>\n",
    "<p>XOR</p>"
   ]
  },
  {
   "cell_type": "code",
   "execution_count": 90,
   "metadata": {},
   "outputs": [],
   "source": [
    "first = '1c0111001f010100061a024b53535009181c'\n",
    "second = '686974207468652062756c6c277320657965'\n",
    "answer = b'746865206b696420646f6e277420706c6179'\n",
    "\n",
    "\n",
    "def XOR(first, second):\n",
    "    return bytes(a ^ b for (a, b) in zip(first, second))\n",
    "\n",
    "result = bytes2hex(XOR(hex2bytes(first),hex2bytes(second)))"
   ]
  },
  {
   "cell_type": "code",
   "execution_count": 91,
   "metadata": {},
   "outputs": [
    {
     "data": {
      "text/plain": [
       "True"
      ]
     },
     "execution_count": 91,
     "metadata": {},
     "output_type": "execute_result"
    }
   ],
   "source": [
    "answer == result"
   ]
  },
  {
   "cell_type": "markdown",
   "metadata": {},
   "source": [
    "<h5>Challenge 3</h5>\n",
    "<p>Single-byte XOR decryption</p>"
   ]
  },
  {
   "cell_type": "code",
   "execution_count": 588,
   "metadata": {},
   "outputs": [],
   "source": [
    "# word lists\n",
    "word_list_data = {}\n",
    "with open('englishwords.txt', 'r') as f:\n",
    "    data = f.read()\n",
    "    for idx, word in enumerate(data.split('\\n')):\n",
    "        word_list_data[word] = idx"
   ]
  },
  {
   "cell_type": "code",
   "execution_count": 589,
   "metadata": {},
   "outputs": [],
   "source": [
    "# char list\n",
    "char_freq_data = {}\n",
    "with open('letterfreq.txt', 'r') as f:\n",
    "    data = f.read()\n",
    "    for line in data.split('\\n'):\n",
    "        elements = line.split(' ')\n",
    "        char_freq_data[elements[0].lower()] = round(float(elements[-3][:-1]) / 100, 4)"
   ]
  },
  {
   "cell_type": "code",
   "execution_count": 590,
   "metadata": {},
   "outputs": [],
   "source": [
    "tocrack = '1b37373331363f78151b7f2b783431333d78397828372d363c78373e783a393b3736'\n",
    "bytestring = hex2bytes(tocrack)"
   ]
  },
  {
   "cell_type": "code",
   "execution_count": 599,
   "metadata": {},
   "outputs": [],
   "source": [
    "import collections\n",
    "\n",
    "def evaluateString(string):\n",
    "    # check char frequency\n",
    "    size = len(string)\n",
    "    string = string.lower()\n",
    "    tmpstr = string\n",
    "    for char in 'abcdefghijklmnopqrstuvwxyz':\n",
    "        tmpstr = tmpstr.replace(char, '')\n",
    "    charRatio = len(tmpstr) / size\n",
    "    if charRatio > 0.5:\n",
    "        return 0.0\n",
    "    # check words frequency\n",
    "    words = string.split(' ')\n",
    "    lenwords = sum([len(word) for word in words if len(word) > 2])\n",
    "    lenmatches = 0.\n",
    "    for word in words:\n",
    "        if word in word_list_data.keys():\n",
    "            if len(word) > 2:\n",
    "                lenmatches += len(word)\n",
    "    \n",
    "    return (lenmatches / lenwords) + (1 - charRatio)"
   ]
  },
  {
   "cell_type": "code",
   "execution_count": 607,
   "metadata": {},
   "outputs": [
    {
     "name": "stdout",
     "output_type": "stream",
     "text": [
      "Char: X / 88 with a probability: 1.6341176470588237\n",
      "Message: Cooking MC's like a pound of bacon\n"
     ]
    }
   ],
   "source": [
    "likelyhood = {}\n",
    "for char in range(256):\n",
    "    deltas = [byte ^ char for byte in bytestring]\n",
    "    tmp = bytes2str(bytearray(deltas))\n",
    "    likelyhood[char] = evaluateString(tmp)\n",
    "likelyhood\n",
    "\n",
    "sorted_dict = collections.OrderedDict(sorted({likelyhood[value]:value for value in likelyhood.keys() if likelyhood[value] > 0.1}.items(), reverse=True))\n",
    "\n",
    "print(\"Char:\", chr(sorted_dict[next(iter(sorted_dict))]), \"/\",sorted_dict[next(iter(sorted_dict))] , \"with a probability:\", next(iter(sorted_dict)))\n",
    "print(\"Message:\", bytes2str(bytearray([byte ^ sorted_dict[next(iter(sorted_dict))] for byte in bytestring])))"
   ]
  },
  {
   "cell_type": "markdown",
   "metadata": {},
   "source": [
    "<h5>Challenge 4</h5>\n",
    "<p>Detect single-char XOR</p>"
   ]
  },
  {
   "cell_type": "code",
   "execution_count": 284,
   "metadata": {},
   "outputs": [],
   "source": [
    "with open('1_4.txt', 'r') as f:\n",
    "    msgs = f.read().split('\\n')\n",
    "msgs = [hex2bytes(i) for i in msgs]"
   ]
  },
  {
   "cell_type": "code",
   "execution_count": 313,
   "metadata": {},
   "outputs": [
    {
     "name": "stdout",
     "output_type": "stream",
     "text": [
      "Msgidx: 170\n",
      "Probability: 0.6521739130434783\n",
      "Char: 5\n",
      "Msg: Now that the party is jumping\n",
      "\n"
     ]
    }
   ],
   "source": [
    "bestprobability = 0.0\n",
    "bestmsgidx = None\n",
    "bestcharidx = None\n",
    "\n",
    "for idx, msg in enumerate(msgs):\n",
    "    likelyhood = {}\n",
    "    for char in range(256):\n",
    "        deltas = [byte ^ char for byte in msg]\n",
    "        tmp = bytes2str(bytearray(deltas))\n",
    "        likelyhood[char] = evaluateString(tmp)\n",
    "        \n",
    "    sorted_dict = {likelyhood[value]:value for value in likelyhood.keys() if likelyhood[value] > 0.1}\n",
    "    if len(sorted_dict) >= 1:\n",
    "        currentprob = next(iter(sorted_dict))\n",
    "        if currentprob > bestprobability:\n",
    "            bestprobability = currentprob\n",
    "            bestmsgidx = idx\n",
    "            bestcharidx = chr(sorted_dict[next(iter(sorted_dict))])\n",
    " \n",
    "print('Msgidx:',bestmsgidx)\n",
    "print('Probability:', bestprobability)\n",
    "print('Char:',bestcharidx)\n",
    "print('Msg:',bytes2str(bytearray([byte ^ ord(bestcharidx) for byte in msgs[bestmsgidx]])))"
   ]
  },
  {
   "cell_type": "markdown",
   "metadata": {},
   "source": [
    "<h5>Challenge 5</h5>\n",
    "<p>Repeating key XOR</p>"
   ]
  },
  {
   "cell_type": "code",
   "execution_count": 461,
   "metadata": {},
   "outputs": [],
   "source": [
    "stringIN = \"Burning 'em, if you ain't quick and nimble\\nI go crazy when I hear a cymbal\"\n",
    "stringOUT = \"0b3637272a2b2e63622c2e69692a23693a2a3c6324202d623d63343c2a2622632427276527\"\"2a282b2f20430a652e2c652a3124333a653e2b2027630c692b20283165286326302e27282f\"\n",
    "key = 'ICE'\n",
    "keyB = str2bytes(key)\n",
    "\n",
    "\n",
    "def XOR_uneven(first, second):\n",
    "    size = len(second)\n",
    "    second = [second[i % size] for i in range(len(first))]\n",
    "    return bytearray(bytes(a ^ b for (a, b) in zip(first, second)))\n"
   ]
  },
  {
   "cell_type": "code",
   "execution_count": 462,
   "metadata": {},
   "outputs": [],
   "source": [
    "arrays = [str2bytes(s) for s in stringIN.split('\\n')]\n",
    "arrays = str2bytes(stringIN)\n",
    "resultE = XOR_uneven(arrays, keyB)\n",
    "resultD = bytes2hex(resultE)"
   ]
  },
  {
   "cell_type": "code",
   "execution_count": 469,
   "metadata": {},
   "outputs": [
    {
     "data": {
      "text/plain": [
       "True"
      ]
     },
     "execution_count": 469,
     "metadata": {},
     "output_type": "execute_result"
    }
   ],
   "source": [
    "resultD.decode('utf-8') == stringOUT"
   ]
  },
  {
   "cell_type": "markdown",
   "metadata": {},
   "source": [
    "<h5>Challenge 6</h5>\n",
    "<p>Break repeating key XOR</p>"
   ]
  },
  {
   "cell_type": "code",
   "execution_count": 552,
   "metadata": {},
   "outputs": [],
   "source": [
    "def hammingDist(first, second):\n",
    "    s = 0\n",
    "    for i in range(len(first)):\n",
    "        x = first[i] ^ second[i]\n",
    "        bits = 0\n",
    "        while (x > 0):\n",
    "            bits += x & 1\n",
    "            x >>= 1\n",
    "        s += bits\n",
    "    return s"
   ]
  },
  {
   "cell_type": "code",
   "execution_count": 554,
   "metadata": {},
   "outputs": [
    {
     "data": {
      "text/plain": [
       "37"
      ]
     },
     "execution_count": 554,
     "metadata": {},
     "output_type": "execute_result"
    }
   ],
   "source": [
    "hammingDist(b'this is a test', b'wokka wokka!!!')"
   ]
  },
  {
   "cell_type": "code",
   "execution_count": 614,
   "metadata": {},
   "outputs": [
    {
     "data": {
      "text/plain": [
       "['b', 'o', 'n', 'g']"
      ]
     },
     "execution_count": 614,
     "metadata": {},
     "output_type": "execute_result"
    }
   ],
   "source": [
    "a='test'\n",
    "b='bong'\n",
    "b = [b[i % 4] for i in range(len(b))]\n",
    "#bytearray(bytes(a ^ b for (a, b) in zip(first, second)))\n",
    "b\n"
   ]
  },
  {
   "cell_type": "code",
   "execution_count": 496,
   "metadata": {},
   "outputs": [],
   "source": [
    "# params\n",
    "possible_keysize = range(2,41)"
   ]
  },
  {
   "cell_type": "code",
   "execution_count": 511,
   "metadata": {},
   "outputs": [],
   "source": [
    "data = ''\n",
    "with open('1_6.txt', 'r') as f:\n",
    "    data = f.read()"
   ]
  },
  {
   "cell_type": "code",
   "execution_count": 521,
   "metadata": {
    "scrolled": true
   },
   "outputs": [],
   "source": [
    "data = base642bytes(data)"
   ]
  },
  {
   "cell_type": "code",
   "execution_count": 574,
   "metadata": {},
   "outputs": [
    {
     "data": {
      "text/plain": [
       "[29, 5, 2, 24, 7]"
      ]
     },
     "execution_count": 574,
     "metadata": {},
     "output_type": "execute_result"
    }
   ],
   "source": [
    "from itertools import combinations\n",
    "\n",
    "\n",
    "# find keysize\n",
    "num_keysizes = 4\n",
    "\n",
    "distances = {}\n",
    "\n",
    "# find correct keysize\n",
    "for keysize in possible_keysize:\n",
    "    \n",
    "    blocks = []\n",
    "    for i in range(num_keysizes):\n",
    "        start = i * keysize\n",
    "        end = (i * keysize) + keysize\n",
    "        blocks.append(data[start : end])\n",
    "    \n",
    "    pairs = combinations(blocks, 2)\n",
    "    dist = 0.0\n",
    "    \n",
    "    for (first, second) in pairs:\n",
    "        dist += hammingDist(first, second)\n",
    "    \n",
    "    dist /= 6\n",
    "    dist /= keysize\n",
    "    \n",
    "    \n",
    "    distances[dist] = keysize\n",
    "    \n",
    "ordered_distances = collections.OrderedDict(sorted(distances.items()))\n",
    "keysizes = [ordered_distances[i] for i in list(ordered_distances.keys())[:5]]\n",
    "keysizes"
   ]
  },
  {
   "cell_type": "code",
   "execution_count": 585,
   "metadata": {
    "scrolled": true
   },
   "outputs": [
    {
     "data": {
      "text/plain": [
       "[29,\n",
       " 54,\n",
       " 60,\n",
       " 55,\n",
       " 56,\n",
       " 116,\n",
       " 58,\n",
       " 53,\n",
       " 116,\n",
       " 38,\n",
       " 59,\n",
       " 116,\n",
       " 94,\n",
       " 58,\n",
       " 55,\n",
       " 49,\n",
       " 57,\n",
       " 57,\n",
       " 59,\n",
       " 61,\n",
       " 53,\n",
       " 34,\n",
       " 53,\n",
       " 58,\n",
       " 59,\n",
       " 116,\n",
       " 36,\n",
       " 32,\n",
       " 101,\n",
       " 48,\n",
       " 60,\n",
       " 51,\n",
       " 58,\n",
       " 116,\n",
       " 53,\n",
       " 58,\n",
       " 115,\n",
       " 116,\n",
       " 116,\n",
       " 49,\n",
       " 33,\n",
       " 13,\n",
       " 116,\n",
       " 60,\n",
       " 54,\n",
       " 59,\n",
       " 122,\n",
       " 59,\n",
       " 44,\n",
       " 53,\n",
       " 53,\n",
       " 116,\n",
       " 49,\n",
       " 50,\n",
       " 116,\n",
       " 45,\n",
       " 51,\n",
       " 49,\n",
       " 45,\n",
       " 59,\n",
       " 53,\n",
       " 38,\n",
       " 116,\n",
       " 94,\n",
       " 60,\n",
       " 48,\n",
       " 94,\n",
       " 59,\n",
       " 116,\n",
       " 49,\n",
       " 116,\n",
       " 54,\n",
       " 55,\n",
       " 116,\n",
       " 116,\n",
       " 58,\n",
       " 115,\n",
       " 33,\n",
       " 49,\n",
       " 59,\n",
       " 53,\n",
       " 58,\n",
       " 32,\n",
       " 49,\n",
       " 38,\n",
       " 53,\n",
       " 53,\n",
       " 45,\n",
       " 59,\n",
       " 116,\n",
       " 45,\n",
       " 61,\n",
       " 59,\n",
       " 94,\n",
       " 54,\n",
       " 32,\n",
       " 48,\n",
       " 55,\n",
       " 120,\n",
       " 39]"
      ]
     },
     "execution_count": 585,
     "metadata": {},
     "output_type": "execute_result"
    }
   ],
   "source": [
    "# make blocks of keysize\n",
    "best_keysize = keysizes[0]\n",
    "\n",
    "keysize_blocks = {i:[] for i in range(best_keysize)}\n",
    "\n",
    "for idx, byte in enumerate(data):\n",
    "    keysize_blocks[idx % best_keysize].append(byte)\n",
    "    \n",
    "keysize_blocks[0]"
   ]
  },
  {
   "cell_type": "code",
   "execution_count": 586,
   "metadata": {},
   "outputs": [
    {
     "data": {
      "text/plain": [
       "[29,\n",
       " 54,\n",
       " 60,\n",
       " 55,\n",
       " 56,\n",
       " 116,\n",
       " 58,\n",
       " 53,\n",
       " 116,\n",
       " 38,\n",
       " 59,\n",
       " 116,\n",
       " 94,\n",
       " 58,\n",
       " 55,\n",
       " 49,\n",
       " 57,\n",
       " 57,\n",
       " 59,\n",
       " 61,\n",
       " 53,\n",
       " 34,\n",
       " 53,\n",
       " 58,\n",
       " 59,\n",
       " 116,\n",
       " 36,\n",
       " 32,\n",
       " 101,\n",
       " 48,\n",
       " 60,\n",
       " 51,\n",
       " 58,\n",
       " 116,\n",
       " 53,\n",
       " 58,\n",
       " 115,\n",
       " 116,\n",
       " 116,\n",
       " 49,\n",
       " 33,\n",
       " 13,\n",
       " 116,\n",
       " 60,\n",
       " 54,\n",
       " 59,\n",
       " 122,\n",
       " 59,\n",
       " 44,\n",
       " 53,\n",
       " 53,\n",
       " 116,\n",
       " 49,\n",
       " 50,\n",
       " 116,\n",
       " 45,\n",
       " 51,\n",
       " 49,\n",
       " 45,\n",
       " 59,\n",
       " 53,\n",
       " 38,\n",
       " 116,\n",
       " 94,\n",
       " 60,\n",
       " 48,\n",
       " 94,\n",
       " 59,\n",
       " 116,\n",
       " 49,\n",
       " 116,\n",
       " 54,\n",
       " 55,\n",
       " 116,\n",
       " 116,\n",
       " 58,\n",
       " 115,\n",
       " 33,\n",
       " 49,\n",
       " 59,\n",
       " 53,\n",
       " 58,\n",
       " 32,\n",
       " 49,\n",
       " 38,\n",
       " 53,\n",
       " 53,\n",
       " 45,\n",
       " 59,\n",
       " 116,\n",
       " 45,\n",
       " 61,\n",
       " 59,\n",
       " 94,\n",
       " 54,\n",
       " 32,\n",
       " 48,\n",
       " 55,\n",
       " 120,\n",
       " 39]"
      ]
     },
     "execution_count": 586,
     "metadata": {},
     "output_type": "execute_result"
    }
   ],
   "source": [
    "for block in keysize_blocks.keys():\n",
    "    for char in range(256):\n",
    "        deltas = [byte ^ char for byte in bytestring]\n",
    "        tmp = bytes2str(bytearray(deltas))\n",
    "        likelyhood[char] = evaluateString(tmp)"
   ]
  },
  {
   "cell_type": "code",
   "execution_count": null,
   "metadata": {},
   "outputs": [],
   "source": []
  },
  {
   "cell_type": "code",
   "execution_count": 608,
   "metadata": {},
   "outputs": [],
   "source": [
    "first = 'first' \n",
    "second = 'second'"
   ]
  },
  {
   "cell_type": "code",
   "execution_count": 609,
   "metadata": {},
   "outputs": [
    {
     "data": {
      "text/plain": [
       "False"
      ]
     },
     "execution_count": 609,
     "metadata": {},
     "output_type": "execute_result"
    }
   ],
   "source": [
    "len(first) == len(second)"
   ]
  },
  {
   "cell_type": "code",
   "execution_count": 610,
   "metadata": {},
   "outputs": [
    {
     "ename": "AttributeError",
     "evalue": "'str' object has no attribute 'type'",
     "output_type": "error",
     "traceback": [
      "\u001b[1;31m---------------------------------------------------------------------------\u001b[0m",
      "\u001b[1;31mAttributeError\u001b[0m                            Traceback (most recent call last)",
      "\u001b[1;32m<ipython-input-610-5d4fe95d3b7b>\u001b[0m in \u001b[0;36m<module>\u001b[1;34m\u001b[0m\n\u001b[1;32m----> 1\u001b[1;33m \u001b[0mfirst\u001b[0m\u001b[1;33m.\u001b[0m\u001b[0mtype\u001b[0m\u001b[1;33m\u001b[0m\u001b[1;33m\u001b[0m\u001b[0m\n\u001b[0m",
      "\u001b[1;31mAttributeError\u001b[0m: 'str' object has no attribute 'type'"
     ]
    }
   ],
   "source": [
    "first.type"
   ]
  },
  {
   "cell_type": "code",
   "execution_count": 611,
   "metadata": {},
   "outputs": [
    {
     "data": {
      "text/plain": [
       "str"
      ]
     },
     "execution_count": 611,
     "metadata": {},
     "output_type": "execute_result"
    }
   ],
   "source": [
    "type(first)"
   ]
  },
  {
   "cell_type": "code",
   "execution_count": 612,
   "metadata": {},
   "outputs": [
    {
     "data": {
      "text/plain": [
       "bytes"
      ]
     },
     "execution_count": 612,
     "metadata": {},
     "output_type": "execute_result"
    }
   ],
   "source": [
    "type(b'first')"
   ]
  },
  {
   "cell_type": "code",
   "execution_count": 622,
   "metadata": {},
   "outputs": [
    {
     "data": {
      "text/plain": [
       "True"
      ]
     },
     "execution_count": 622,
     "metadata": {},
     "output_type": "execute_result"
    }
   ],
   "source": [
    "65 <= ord('a') <= 97"
   ]
  },
  {
   "cell_type": "code",
   "execution_count": 624,
   "metadata": {},
   "outputs": [
    {
     "data": {
      "text/plain": [
       "122"
      ]
     },
     "execution_count": 624,
     "metadata": {},
     "output_type": "execute_result"
    }
   ],
   "source": [
    "ord('z')"
   ]
  },
  {
   "cell_type": "code",
   "execution_count": 619,
   "metadata": {},
   "outputs": [
    {
     "data": {
      "text/plain": [
       "str"
      ]
     },
     "execution_count": 619,
     "metadata": {},
     "output_type": "execute_result"
    }
   ],
   "source": [
    "type('a')"
   ]
  },
  {
   "cell_type": "code",
   "execution_count": 620,
   "metadata": {},
   "outputs": [
    {
     "data": {
      "text/plain": [
       "int"
      ]
     },
     "execution_count": 620,
     "metadata": {},
     "output_type": "execute_result"
    }
   ],
   "source": [
    "type(65)"
   ]
  },
  {
   "cell_type": "code",
   "execution_count": 7,
   "metadata": {},
   "outputs": [],
   "source": [
    "d = {}\n"
   ]
  },
  {
   "cell_type": "code",
   "execution_count": 8,
   "metadata": {},
   "outputs": [
    {
     "ename": "StopIteration",
     "evalue": "",
     "output_type": "error",
     "traceback": [
      "\u001b[0;31m---------------------------------------------------------------------------\u001b[0m",
      "\u001b[0;31mStopIteration\u001b[0m                             Traceback (most recent call last)",
      "\u001b[0;32m<ipython-input-8-873cfe7a708a>\u001b[0m in \u001b[0;36m<module>\u001b[0;34m\u001b[0m\n\u001b[0;32m----> 1\u001b[0;31m \u001b[0;32mif\u001b[0m \u001b[0mnext\u001b[0m\u001b[0;34m(\u001b[0m\u001b[0miter\u001b[0m\u001b[0;34m(\u001b[0m\u001b[0md\u001b[0m\u001b[0;34m)\u001b[0m\u001b[0;34m)\u001b[0m\u001b[0;34m:\u001b[0m\u001b[0;34m\u001b[0m\u001b[0;34m\u001b[0m\u001b[0m\n\u001b[0m\u001b[1;32m      2\u001b[0m     \u001b[0mprint\u001b[0m\u001b[0;34m(\u001b[0m\u001b[0;36m1\u001b[0m\u001b[0;34m)\u001b[0m\u001b[0;34m\u001b[0m\u001b[0;34m\u001b[0m\u001b[0m\n",
      "\u001b[0;31mStopIteration\u001b[0m: "
     ]
    }
   ],
   "source": [
    "if next(iter(d)):\n",
    "    print(1)"
   ]
  },
  {
   "cell_type": "code",
   "execution_count": 13,
   "metadata": {},
   "outputs": [],
   "source": [
    "import collections\n",
    "d = collections.OrderedDict({1:1})"
   ]
  },
  {
   "cell_type": "code",
   "execution_count": 15,
   "metadata": {},
   "outputs": [
    {
     "data": {
      "text/plain": [
       "1"
      ]
     },
     "execution_count": 15,
     "metadata": {},
     "output_type": "execute_result"
    }
   ],
   "source": [
    "len(d.keys())"
   ]
  },
  {
   "cell_type": "code",
   "execution_count": null,
   "metadata": {},
   "outputs": [],
   "source": []
  }
 ],
 "metadata": {
  "kernelspec": {
   "display_name": "Python 3",
   "language": "python",
   "name": "python3"
  },
  "language_info": {
   "codemirror_mode": {
    "name": "ipython",
    "version": 3
   },
   "file_extension": ".py",
   "mimetype": "text/x-python",
   "name": "python",
   "nbconvert_exporter": "python",
   "pygments_lexer": "ipython3",
   "version": "3.6.8"
  }
 },
 "nbformat": 4,
 "nbformat_minor": 2
}
