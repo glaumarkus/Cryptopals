{
 "cells": [
  {
   "cell_type": "markdown",
   "metadata": {},
   "source": [
    "<h1>Set 1</h1>\n",
    "<h5>Challenge 1</h5>\n",
    "<p>Convert hex to base64</p>"
   ]
  },
  {
   "cell_type": "code",
   "execution_count": null,
   "metadata": {},
   "outputs": [],
   "source": [
    "from converters import *\n",
    "\n",
    "hexstring = '49276d206b696c6c696e6720796f757220627261696e206c696b65206120706f69736f6e6f7573206d757368726f6f6d'\n",
    "correct = b'SSdtIGtpbGxpbmcgeW91ciBicmFpbiBsaWtlIGEgcG9pc29ub3VzIG11c2hyb29t'\n",
    "\n",
    "hex2base64(hexstring) == correct"
   ]
  },
  {
   "cell_type": "markdown",
   "metadata": {},
   "source": [
    "<h5>Challenge 2</h5>\n",
    "<p>XOR</p>"
   ]
  },
  {
   "cell_type": "code",
   "execution_count": null,
   "metadata": {},
   "outputs": [],
   "source": [
    "from crypto import *\n",
    "\n",
    "first = '1c0111001f010100061a024b53535009181c'\n",
    "second = '686974207468652062756c6c277320657965'\n",
    "answer = b'746865206b696420646f6e277420706c6179'\n",
    "\n",
    "bytes2hex(\n",
    "    XOR(\n",
    "        hex2bytes(first), \n",
    "        hex2bytes(second)\n",
    "        )\n",
    "          ) == answer"
   ]
  },
  {
   "cell_type": "markdown",
   "metadata": {},
   "source": [
    "<h5>Challenge 3</h5>\n",
    "<p>Single-byte XOR decryption</p>"
   ]
  },
  {
   "cell_type": "code",
   "execution_count": 1,
   "metadata": {},
   "outputs": [],
   "source": [
    "tocrack = '1b37373331363f78151b7f2b783431333d78397828372d363c78373e783a393b3736'"
   ]
  },
  {
   "cell_type": "code",
   "execution_count": 2,
   "metadata": {
    "scrolled": true
   },
   "outputs": [
    {
     "ename": "TypeError",
     "evalue": "__init__() takes 1 positional argument but 2 were given",
     "output_type": "error",
     "traceback": [
      "\u001b[1;31m---------------------------------------------------------------------------\u001b[0m",
      "\u001b[1;31mTypeError\u001b[0m                                 Traceback (most recent call last)",
      "\u001b[1;32m<ipython-input-2-c7d54bfa7915>\u001b[0m in \u001b[0;36m<module>\u001b[1;34m\u001b[0m\n\u001b[0;32m      1\u001b[0m \u001b[1;32mfrom\u001b[0m \u001b[0mSingleByteCracker\u001b[0m \u001b[1;32mimport\u001b[0m \u001b[1;33m*\u001b[0m\u001b[1;33m\u001b[0m\u001b[1;33m\u001b[0m\u001b[0m\n\u001b[1;32m----> 2\u001b[1;33m \u001b[0mcracker\u001b[0m \u001b[1;33m=\u001b[0m \u001b[0mSingleCharXORCracker\u001b[0m\u001b[1;33m(\u001b[0m\u001b[0mmode\u001b[0m\u001b[1;33m=\u001b[0m\u001b[0mCrackerMode\u001b[0m\u001b[1;33m.\u001b[0m\u001b[0mCHARONLY\u001b[0m\u001b[1;33m)\u001b[0m\u001b[1;33m\u001b[0m\u001b[1;33m\u001b[0m\u001b[0m\n\u001b[0m\u001b[0;32m      3\u001b[0m \u001b[0mcracker\u001b[0m\u001b[1;33m.\u001b[0m\u001b[0mcrack\u001b[0m\u001b[1;33m(\u001b[0m\u001b[0mstr2bytes\u001b[0m\u001b[1;33m(\u001b[0m\u001b[0mtocrack\u001b[0m\u001b[1;33m)\u001b[0m\u001b[1;33m)\u001b[0m\u001b[1;33m\u001b[0m\u001b[1;33m\u001b[0m\u001b[0m\n\u001b[0;32m      4\u001b[0m \u001b[1;32mif\u001b[0m \u001b[0mcracker\u001b[0m\u001b[1;33m.\u001b[0m\u001b[0msuccess\u001b[0m\u001b[1;33m:\u001b[0m\u001b[1;33m\u001b[0m\u001b[1;33m\u001b[0m\u001b[0m\n\u001b[0;32m      5\u001b[0m     \u001b[0mcracker\u001b[0m\u001b[1;33m.\u001b[0m\u001b[0mprintResult\u001b[0m\u001b[1;33m(\u001b[0m\u001b[1;33m)\u001b[0m\u001b[1;33m\u001b[0m\u001b[1;33m\u001b[0m\u001b[0m\n",
      "\u001b[1;32m~\\Desktop\\Cryptopals Python\\Cryptopals\\SingleByteCracker.py\u001b[0m in \u001b[0;36m__init__\u001b[1;34m(self, mode, thresholdWords, wordListMode)\u001b[0m\n\u001b[0;32m     56\u001b[0m         \u001b[1;32mdef\u001b[0m \u001b[0m__init__\u001b[0m\u001b[1;33m(\u001b[0m\u001b[0mself\u001b[0m\u001b[1;33m,\u001b[0m \u001b[0mmode\u001b[0m\u001b[1;33m=\u001b[0m\u001b[0mCrackerMode\u001b[0m\u001b[1;33m.\u001b[0m\u001b[0mBOTH\u001b[0m\u001b[1;33m,\u001b[0m \u001b[0mthresholdWords\u001b[0m\u001b[1;33m=\u001b[0m\u001b[1;36m0.4\u001b[0m\u001b[1;33m,\u001b[0m \u001b[0mwordListMode\u001b[0m\u001b[1;33m=\u001b[0m\u001b[0mWordListMode\u001b[0m\u001b[1;33m.\u001b[0m\u001b[0mMEDIUM\u001b[0m\u001b[1;33m)\u001b[0m\u001b[1;33m:\u001b[0m\u001b[1;33m\u001b[0m\u001b[1;33m\u001b[0m\u001b[0m\n\u001b[0;32m     57\u001b[0m                 \u001b[0mself\u001b[0m\u001b[1;33m.\u001b[0m\u001b[0mmode\u001b[0m \u001b[1;33m=\u001b[0m \u001b[0mmode\u001b[0m\u001b[1;33m\u001b[0m\u001b[1;33m\u001b[0m\u001b[0m\n\u001b[1;32m---> 58\u001b[1;33m                 \u001b[0mself\u001b[0m\u001b[1;33m.\u001b[0m\u001b[0mtracker\u001b[0m \u001b[1;33m=\u001b[0m \u001b[0mprobabilityTracker\u001b[0m\u001b[1;33m(\u001b[0m\u001b[0mmode\u001b[0m\u001b[1;33m)\u001b[0m\u001b[1;33m\u001b[0m\u001b[1;33m\u001b[0m\u001b[0m\n\u001b[0m\u001b[0;32m     59\u001b[0m                 \u001b[0mself\u001b[0m\u001b[1;33m.\u001b[0m\u001b[0mthresholdWords\u001b[0m \u001b[1;33m=\u001b[0m \u001b[0mthresholdWords\u001b[0m\u001b[1;33m\u001b[0m\u001b[1;33m\u001b[0m\u001b[0m\n\u001b[0;32m     60\u001b[0m                 \u001b[0mself\u001b[0m\u001b[1;33m.\u001b[0m\u001b[0mresult\u001b[0m \u001b[1;33m=\u001b[0m \u001b[0mcrackResult\u001b[0m\u001b[1;33m(\u001b[0m\u001b[1;33m)\u001b[0m\u001b[1;33m\u001b[0m\u001b[1;33m\u001b[0m\u001b[0m\n",
      "\u001b[1;31mTypeError\u001b[0m: __init__() takes 1 positional argument but 2 were given"
     ]
    }
   ],
   "source": [
    "from SingleByteCracker import *\n",
    "cracker = SingleCharXORCracker(mode=CrackerMode.CHARONLY)\n",
    "cracker.crack(str2bytes(tocrack))\n",
    "if cracker.success:\n",
    "    cracker.printResult()\n",
    "# 88 "
   ]
  },
  {
   "cell_type": "code",
   "execution_count": null,
   "metadata": {},
   "outputs": [],
   "source": [
    "for i in cracker.tracker.ratios.keys():\n",
    "    print(i, cracker.tracker.ratios[i])"
   ]
  },
  {
   "cell_type": "code",
   "execution_count": null,
   "metadata": {},
   "outputs": [],
   "source": [
    "cracker.tracker.ratios[88].charRatio"
   ]
  },
  {
   "cell_type": "code",
   "execution_count": null,
   "metadata": {},
   "outputs": [],
   "source": [
    "cracker.tracker.ratios[88].wordRatio"
   ]
  },
  {
   "cell_type": "markdown",
   "metadata": {},
   "source": [
    "<h5>Challenge 4</h5>\n",
    "<p>Detect single-char XOR</p>"
   ]
  },
  {
   "cell_type": "code",
   "execution_count": null,
   "metadata": {},
   "outputs": [],
   "source": [
    "with open('files/1_4.txt', 'r') as f:\n",
    "    msgs = f.read().split('\\n')\n",
    "msgs = [hex2bytes(i) for i in msgs]"
   ]
  },
  {
   "cell_type": "code",
   "execution_count": null,
   "metadata": {},
   "outputs": [],
   "source": [
    "bestprobability = 0.0\n",
    "bestmsgidx = None\n",
    "bestcharidx = None\n",
    "\n",
    "for idx, msg in enumerate(msgs):\n",
    "    likelyhood = {}\n",
    "    for char in range(256):\n",
    "        deltas = [byte ^ char for byte in msg]\n",
    "        tmp = bytes2str(bytearray(deltas))\n",
    "        likelyhood[char] = evaluateString(tmp)\n",
    "        \n",
    "    sorted_dict = {likelyhood[value]:value for value in likelyhood.keys() if likelyhood[value] > 0.1}\n",
    "    if len(sorted_dict) >= 1:\n",
    "        currentprob = next(iter(sorted_dict))\n",
    "        if currentprob > bestprobability:\n",
    "            bestprobability = currentprob\n",
    "            bestmsgidx = idx\n",
    "            bestcharidx = chr(sorted_dict[next(iter(sorted_dict))])\n",
    " \n",
    "print('Msgidx:',bestmsgidx)\n",
    "print('Probability:', bestprobability)\n",
    "print('Char:',bestcharidx)\n",
    "print('Msg:',bytes2str(bytearray([byte ^ ord(bestcharidx) for byte in msgs[bestmsgidx]])))"
   ]
  },
  {
   "cell_type": "markdown",
   "metadata": {},
   "source": [
    "<h5>Challenge 5</h5>\n",
    "<p>Repeating key XOR</p>"
   ]
  },
  {
   "cell_type": "code",
   "execution_count": null,
   "metadata": {},
   "outputs": [],
   "source": [
    "stringIN = \"Burning 'em, if you ain't quick and nimble\\nI go crazy when I hear a cymbal\"\n",
    "stringOUT = \"0b3637272a2b2e63622c2e69692a23693a2a3c6324202d623d63343c2a2622632427276527\"\"2a282b2f20430a652e2c652a3124333a653e2b2027630c692b20283165286326302e27282f\"\n",
    "key = 'ICE'\n",
    "keyB = str2bytes(key)\n",
    "\n",
    "\n",
    "def XOR_uneven(first, second):\n",
    "    size = len(second)\n",
    "    second = [second[i % size] for i in range(len(first))]\n",
    "    return bytearray(bytes(a ^ b for (a, b) in zip(first, second)))\n"
   ]
  },
  {
   "cell_type": "code",
   "execution_count": null,
   "metadata": {},
   "outputs": [],
   "source": [
    "arrays = [str2bytes(s) for s in stringIN.split('\\n')]\n",
    "arrays = str2bytes(stringIN)\n",
    "resultE = XOR_uneven(arrays, keyB)\n",
    "resultD = bytes2hex(resultE)"
   ]
  },
  {
   "cell_type": "code",
   "execution_count": null,
   "metadata": {},
   "outputs": [],
   "source": [
    "resultD.decode('utf-8') == stringOUT"
   ]
  },
  {
   "cell_type": "markdown",
   "metadata": {},
   "source": [
    "<h5>Challenge 6</h5>\n",
    "<p>Break repeating key XOR</p>"
   ]
  },
  {
   "cell_type": "code",
   "execution_count": null,
   "metadata": {},
   "outputs": [],
   "source": [
    "def hammingDist(first, second):\n",
    "    s = 0\n",
    "    for i in range(len(first)):\n",
    "        x = first[i] ^ second[i]\n",
    "        bits = 0\n",
    "        while (x > 0):\n",
    "            bits += x & 1\n",
    "            x >>= 1\n",
    "        s += bits\n",
    "    return s"
   ]
  },
  {
   "cell_type": "code",
   "execution_count": null,
   "metadata": {},
   "outputs": [],
   "source": [
    "hammingDist(b'this is a test', b'wokka wokka!!!')"
   ]
  },
  {
   "cell_type": "code",
   "execution_count": null,
   "metadata": {},
   "outputs": [],
   "source": [
    "a='test'\n",
    "b='bong'\n",
    "b = [b[i % 4] for i in range(len(b))]\n",
    "#bytearray(bytes(a ^ b for (a, b) in zip(first, second)))\n",
    "b\n"
   ]
  },
  {
   "cell_type": "code",
   "execution_count": null,
   "metadata": {},
   "outputs": [],
   "source": [
    "# params\n",
    "possible_keysize = range(2,41)"
   ]
  },
  {
   "cell_type": "code",
   "execution_count": null,
   "metadata": {},
   "outputs": [],
   "source": [
    "data = ''\n",
    "with open('1_6.txt', 'r') as f:\n",
    "    data = f.read()"
   ]
  },
  {
   "cell_type": "code",
   "execution_count": null,
   "metadata": {
    "scrolled": true
   },
   "outputs": [],
   "source": [
    "data = base642bytes(data)"
   ]
  },
  {
   "cell_type": "code",
   "execution_count": null,
   "metadata": {},
   "outputs": [],
   "source": [
    "from itertools import combinations\n",
    "\n",
    "\n",
    "# find keysize\n",
    "num_keysizes = 4\n",
    "\n",
    "distances = {}\n",
    "\n",
    "# find correct keysize\n",
    "for keysize in possible_keysize:\n",
    "    \n",
    "    blocks = []\n",
    "    for i in range(num_keysizes):\n",
    "        start = i * keysize\n",
    "        end = (i * keysize) + keysize\n",
    "        blocks.append(data[start : end])\n",
    "    \n",
    "    pairs = combinations(blocks, 2)\n",
    "    dist = 0.0\n",
    "    \n",
    "    for (first, second) in pairs:\n",
    "        dist += hammingDist(first, second)\n",
    "    \n",
    "    dist /= 6\n",
    "    dist /= keysize\n",
    "    \n",
    "    \n",
    "    distances[dist] = keysize\n",
    "    \n",
    "ordered_distances = collections.OrderedDict(sorted(distances.items()))\n",
    "keysizes = [ordered_distances[i] for i in list(ordered_distances.keys())[:5]]\n",
    "keysizes"
   ]
  },
  {
   "cell_type": "code",
   "execution_count": null,
   "metadata": {
    "scrolled": true
   },
   "outputs": [],
   "source": [
    "# make blocks of keysize\n",
    "best_keysize = keysizes[0]\n",
    "\n",
    "keysize_blocks = {i:[] for i in range(best_keysize)}\n",
    "\n",
    "for idx, byte in enumerate(data):\n",
    "    keysize_blocks[idx % best_keysize].append(byte)\n",
    "    \n",
    "keysize_blocks[0]"
   ]
  },
  {
   "cell_type": "code",
   "execution_count": null,
   "metadata": {},
   "outputs": [],
   "source": [
    "for block in keysize_blocks.keys():\n",
    "    for char in range(256):\n",
    "        deltas = [byte ^ char for byte in bytestring]\n",
    "        tmp = bytes2str(bytearray(deltas))\n",
    "        likelyhood[char] = evaluateString(tmp)"
   ]
  },
  {
   "cell_type": "code",
   "execution_count": null,
   "metadata": {},
   "outputs": [],
   "source": []
  },
  {
   "cell_type": "code",
   "execution_count": null,
   "metadata": {},
   "outputs": [],
   "source": [
    "first = 'first' \n",
    "second = 'second'"
   ]
  },
  {
   "cell_type": "code",
   "execution_count": null,
   "metadata": {},
   "outputs": [],
   "source": [
    "len(first) == len(second)"
   ]
  },
  {
   "cell_type": "code",
   "execution_count": null,
   "metadata": {},
   "outputs": [],
   "source": [
    "first.type"
   ]
  },
  {
   "cell_type": "code",
   "execution_count": null,
   "metadata": {},
   "outputs": [],
   "source": [
    "type(first)"
   ]
  },
  {
   "cell_type": "code",
   "execution_count": null,
   "metadata": {},
   "outputs": [],
   "source": [
    "type(b'first')"
   ]
  },
  {
   "cell_type": "code",
   "execution_count": null,
   "metadata": {},
   "outputs": [],
   "source": [
    "65 <= ord('a') <= 97"
   ]
  },
  {
   "cell_type": "code",
   "execution_count": null,
   "metadata": {},
   "outputs": [],
   "source": [
    "ord('z')"
   ]
  },
  {
   "cell_type": "code",
   "execution_count": null,
   "metadata": {},
   "outputs": [],
   "source": [
    "type('a')"
   ]
  },
  {
   "cell_type": "code",
   "execution_count": null,
   "metadata": {},
   "outputs": [],
   "source": [
    "type(65)"
   ]
  },
  {
   "cell_type": "code",
   "execution_count": null,
   "metadata": {},
   "outputs": [],
   "source": [
    "d = {}\n"
   ]
  },
  {
   "cell_type": "code",
   "execution_count": null,
   "metadata": {},
   "outputs": [],
   "source": [
    "if next(iter(d)):\n",
    "    print(1)"
   ]
  },
  {
   "cell_type": "code",
   "execution_count": null,
   "metadata": {},
   "outputs": [],
   "source": [
    "import collections\n",
    "d = collections.OrderedDict({1:1})"
   ]
  },
  {
   "cell_type": "code",
   "execution_count": null,
   "metadata": {},
   "outputs": [],
   "source": [
    "len(d.keys())"
   ]
  },
  {
   "cell_type": "code",
   "execution_count": null,
   "metadata": {},
   "outputs": [],
   "source": []
  }
 ],
 "metadata": {
  "kernelspec": {
   "display_name": "Python 3",
   "language": "python",
   "name": "python3"
  },
  "language_info": {
   "codemirror_mode": {
    "name": "ipython",
    "version": 3
   },
   "file_extension": ".py",
   "mimetype": "text/x-python",
   "name": "python",
   "nbconvert_exporter": "python",
   "pygments_lexer": "ipython3",
   "version": "3.7.4"
  }
 },
 "nbformat": 4,
 "nbformat_minor": 2
}
