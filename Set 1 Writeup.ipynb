{
 "cells": [
  {
   "cell_type": "markdown",
   "metadata": {},
   "source": [
    "<h1>Set 1</h1>\n",
    "<h5>Challenge 1</h5>\n",
    "<p>Convert hex to base64</p>"
   ]
  },
  {
   "cell_type": "code",
   "execution_count": null,
   "metadata": {},
   "outputs": [],
   "source": [
    "from converters import *\n",
    "\n",
    "hexstring = '49276d206b696c6c696e6720796f757220627261696e206c696b65206120706f69736f6e6f7573206d757368726f6f6d'\n",
    "correct = b'SSdtIGtpbGxpbmcgeW91ciBicmFpbiBsaWtlIGEgcG9pc29ub3VzIG11c2hyb29t'\n",
    "\n",
    "hex2base64(hexstring) == correct"
   ]
  },
  {
   "cell_type": "markdown",
   "metadata": {},
   "source": [
    "<h5>Challenge 2</h5>\n",
    "<p>XOR</p>"
   ]
  },
  {
   "cell_type": "code",
   "execution_count": null,
   "metadata": {},
   "outputs": [],
   "source": [
    "from crypto import *\n",
    "\n",
    "first = '1c0111001f010100061a024b53535009181c'\n",
    "second = '686974207468652062756c6c277320657965'\n",
    "answer = b'746865206b696420646f6e277420706c6179'\n",
    "\n",
    "bytes2hex(\n",
    "    XOR(\n",
    "        hex2bytes(first), \n",
    "        hex2bytes(second)\n",
    "        )\n",
    "          ) == answer"
   ]
  },
  {
   "cell_type": "markdown",
   "metadata": {},
   "source": [
    "<h5>Challenge 3</h5>\n",
    "<p>Single-byte XOR decryption</p>"
   ]
  },
  {
   "cell_type": "code",
   "execution_count": null,
   "metadata": {},
   "outputs": [],
   "source": [
    "tocrack = '1b37373331363f78151b7f2b783431333d78397828372d363c78373e783a393b3736'"
   ]
  },
  {
   "cell_type": "code",
   "execution_count": null,
   "metadata": {
    "scrolled": true
   },
   "outputs": [],
   "source": [
    "from SingleByteCracker import *\n",
    "cracker = SingleCharXORCracker(mode=CrackerMode.CHARONLY)\n",
    "cracker.crack(hex2bytes(tocrack))\n",
    "if cracker.success:\n",
    "    cracker.printResult()"
   ]
  },
  {
   "cell_type": "markdown",
   "metadata": {},
   "source": [
    "<h5>Challenge 4</h5>\n",
    "<p>Detect single-char XOR</p>"
   ]
  },
  {
   "cell_type": "code",
   "execution_count": null,
   "metadata": {},
   "outputs": [],
   "source": [
    "with open('files/1_4.txt', 'r') as f:\n",
    "    msgs = f.read().split('\\n')\n",
    "msgs = [hex2bytes(i) for i in msgs]"
   ]
  },
  {
   "cell_type": "code",
   "execution_count": null,
   "metadata": {},
   "outputs": [],
   "source": [
    "crackers = []\n",
    "\n",
    "for idx, msg in enumerate(msgs):\n",
    "    newCracker = SingleCharXORCracker(mode=CrackerMode.WORDONLY)\n",
    "    newCracker.crack(msg)\n",
    "    if newCracker.success:\n",
    "        crackers.append(newCracker)"
   ]
  },
  {
   "cell_type": "code",
   "execution_count": null,
   "metadata": {},
   "outputs": [],
   "source": [
    "sorted(crackers, reverse=True)[0].printResult()"
   ]
  },
  {
   "cell_type": "markdown",
   "metadata": {},
   "source": [
    "<h5>Challenge 5</h5>\n",
    "<p>Repeating key XOR</p>"
   ]
  },
  {
   "cell_type": "code",
   "execution_count": null,
   "metadata": {},
   "outputs": [],
   "source": [
    "stringIN = \"Burning 'em, if you ain't quick and nimble\\nI go crazy when I hear a cymbal\"\n",
    "stringOUT = \"0b3637272a2b2e63622c2e69692a23693a2a3c6324202d623d63343c2a2622632427276527\"\"2a282b2f20430a652e2c652a3124333a653e2b2027630c692b20283165286326302e27282f\"\n",
    "key = 'ICE'"
   ]
  },
  {
   "cell_type": "code",
   "execution_count": null,
   "metadata": {},
   "outputs": [],
   "source": [
    "bytes2hex(XOR(str2bytes(stringIN),str2bytes(key))).decode('utf-8') == stringOUT"
   ]
  },
  {
   "cell_type": "markdown",
   "metadata": {},
   "source": [
    "<h5>Challenge 6</h5>\n",
    "<p>Break repeating key XOR</p>"
   ]
  },
  {
   "cell_type": "code",
   "execution_count": null,
   "metadata": {},
   "outputs": [],
   "source": [
    "from textoperations import *\n",
    "hammingDist(b'this is a test', b'wokka wokka!!!')"
   ]
  },
  {
   "cell_type": "code",
   "execution_count": null,
   "metadata": {},
   "outputs": [],
   "source": [
    "with open('files/1_6.txt', 'r') as f:\n",
    "    data = f.read()\n",
    "data = base642bytes(data)"
   ]
  },
  {
   "cell_type": "code",
   "execution_count": null,
   "metadata": {},
   "outputs": [],
   "source": [
    "from RepeatingXORCracker import *\n",
    "cracker = RepeatingXORCracker()\n",
    "cracker.crack(bytearray(data))\n",
    "cracker.getKey()"
   ]
  },
  {
   "cell_type": "code",
   "execution_count": null,
   "metadata": {},
   "outputs": [],
   "source": [
    "print(bytes2str(XOR(\n",
    "        data, \n",
    "        str2bytes(cracker.getKey())\n",
    "        )))"
   ]
  },
  {
   "cell_type": "markdown",
   "metadata": {},
   "source": [
    "<h5>Challenge 7</h5>\n",
    "<p>Decrypt AES-ECB</p>"
   ]
  },
  {
   "cell_type": "code",
   "execution_count": 2,
   "metadata": {
    "scrolled": true
   },
   "outputs": [],
   "source": [
    "from converters import *\n",
    "with open('files/1_7.txt', 'r') as f:\n",
    "    data = f.read()\n",
    "data = str2bytes(data)\n",
    "key = 'YELLOW SUBMARINE'"
   ]
  },
  {
   "cell_type": "code",
   "execution_count": 5,
   "metadata": {},
   "outputs": [
    {
     "name": "stdout",
     "output_type": "stream",
     "text": [
      "I'm back and I'm ringin' the bell \n",
      "A rockin' on the mike while the fly girls yell \n",
      "In ecstasy in the back of me \n",
      "Well that's my DJ Deshay cuttin' all them Z's \n",
      "Hittin' hard and the girlies goin' crazy \n",
      "Vanilla's on the mike, man I'm not lazy. \n",
      "\n",
      "I'm lettin' my drug kick in \n",
      "It controls my mouth and I begin \n",
      "To just let it flow, let my concepts go \n",
      "My posse's to the side yellin', Go Vanilla Go! \n",
      "\n",
      "Smooth 'cause that's the way I will be \n",
      "And if you don't give a damn, then \n",
      "Why you starin' at me \n",
      "So get off 'cause I control the stage \n",
      "There's no dissin' allowed \n",
      "I'm in my own phase \n",
      "The girlies sa y they love me and that is ok \n",
      "And I can dance better than any kid n' play \n",
      "\n",
      "Stage 2 -- Yea the one ya' wanna listen to \n",
      "It's off my head so let the beat play through \n",
      "So I can funk it up and make it sound good \n",
      "1-2-3 Yo -- Knock on some wood \n",
      "For good luck, I like my rhymes atrocious \n",
      "Supercalafragilisticexpialidocious \n",
      "I'm an effect and that you can bet \n",
      "I can take a fly girl and make her wet. \n",
      "\n",
      "I'm like Samson -- Samson to Delilah \n",
      "There's no denyin', You can try to hang \n",
      "But you'll keep tryin' to get my style \n",
      "Over and over, practice makes perfect \n",
      "But not if you're a loafer. \n",
      "\n",
      "You'll get nowhere, no place, no time, no girls \n",
      "Soon -- Oh my God, homebody, you probably eat \n",
      "Spaghetti with a spoon! Come on and say it! \n",
      "\n",
      "VIP. Vanilla Ice yep, yep, I'm comin' hard like a rhino \n",
      "Intoxicating so you stagger like a wino \n",
      "So punks stop trying and girl stop cryin' \n",
      "Vanilla Ice is sellin' and you people are buyin' \n",
      "'Cause why the freaks are jockin' like Crazy Glue \n",
      "Movin' and groovin' trying to sing along \n",
      "All through the ghetto groovin' this here song \n",
      "Now you're amazed by the VIP posse. \n",
      "\n",
      "Steppin' so hard like a German Nazi \n",
      "Startled by the bases hittin' ground \n",
      "There's no trippin' on mine, I'm just gettin' down \n",
      "Sparkamatic, I'm hangin' tight like a fanatic \n",
      "You trapped me once and I thought that \n",
      "You might have it \n",
      "So step down and lend me your ear \n",
      "'89 in my time! You, '90 is my year. \n",
      "\n",
      "You're weakenin' fast, YO! and I can tell it \n",
      "Your body's gettin' hot, so, so I can smell it \n",
      "So don't be mad and don't be sad \n",
      "'Cause the lyrics belong to ICE, You can call me Dad \n",
      "You're pitchin' a fit, so step back and endure \n",
      "Let the witch doctor, Ice, do the dance to cure \n",
      "So come up close and don't be square \n",
      "You wanna battle me -- Anytime, anywhere \n",
      "\n",
      "You thought that I was weak, Boy, you're dead wrong \n",
      "So come on, everybody and sing this song \n",
      "\n",
      "Say -- Play that funky music Say, go white boy, go white boy go \n",
      "play that funky music Go white boy, go white boy, go \n",
      "Lay down and boogie and play that funky music till you die. \n",
      "\n",
      "Play that funky music Come on, Come on, let me hear \n",
      "Play that funky music white boy you say it, say it \n",
      "Play that funky music A little louder now \n",
      "Play that funky music, white boy Come on, Come on, Come on \n",
      "Play that funky music \n",
      "\u0004\u0004\u0004\u0004\n"
     ]
    }
   ],
   "source": [
    "from crypto import *\n",
    "print(decrypt(data, key).decode('utf-8'))"
   ]
  },
  {
   "cell_type": "markdown",
   "metadata": {
    "scrolled": true
   },
   "source": [
    "<h5>Challenge 8</h5>\n",
    "<p>Detect AES-ECB</p>"
   ]
  },
  {
   "cell_type": "code",
   "execution_count": 8,
   "metadata": {},
   "outputs": [
    {
     "data": {
      "text/plain": [
       "bytearray(b'\\x8a\\x10$\\x7f\\x90\\xd0\\xa0U8\\x88\\x8a\\xd6 X\\x82\\x19o_m\\x05\\xc2\\x1e\\xc8\\xdc\\xa0\\xcb\\x0b\\xe0,?\\x8b\\t\\xe3\\x82\\x96?D:\\xa5\\x14\\xda\\xa5\\x01%{\\t\\xa3k\\xf8\\xc4\\xc3\\x92\\xd8\\xca\\x1b\\xf49_\\r_%B\\x14\\x8c~_\\xf2\"7\\x96\\x98t\\xbff\\xcb\\x855~\\xf9\\x99V\\xac\\xcf\\x13\\xba\\x1a\\xf3l\\xa7\\xa9\\x1aPS<M\\x89\\xb75?\\x90\\x8cZ\\x16gt);\\x0b\\xf6$s\\x91\\xdfi\\xc8}\\xac\\xc4\\x12Z\\x99\\xecAr!\\xb5\\x81p\\xe638\\x1e8G\\xc6\\xb1\\xc2\\x8d\\xda)\\x13\\xc0\\x11\\xe1?\\xc4@o\\x8f\\xe7;\\xbfx\\xe8\\x03\\xe1\\xd9\\x95\\xceM')"
      ]
     },
     "execution_count": 8,
     "metadata": {},
     "output_type": "execute_result"
    }
   ],
   "source": [
    "from converters import *\n",
    "with open('files/1_8.txt', 'r') as f:\n",
    "    strings = [hex2bytes(i) for i in f.read().split('\\n')]\n",
    "strings[0]"
   ]
  },
  {
   "cell_type": "code",
   "execution_count": 17,
   "metadata": {},
   "outputs": [
    {
     "data": {
      "text/plain": [
       "{0: [138, 111, 227, 248, 126, 86, 183, 223, 230, 63],\n",
       " 1: [16, 95, 130, 196, 95, 172, 53, 105, 51, 196],\n",
       " 2: [36, 109, 150, 195, 242, 207, 63, 200, 56, 64],\n",
       " 3: [127, 5, 63, 146, 34, 19, 144, 125, 30, 111],\n",
       " 4: [144, 194, 68, 216, 55, 186, 140, 172, 56, 143],\n",
       " 5: [208, 30, 58, 202, 150, 26, 90, 196, 71, 231],\n",
       " 6: [160, 200, 165, 27, 152, 243, 22, 18, 198, 59],\n",
       " 7: [85, 220, 20, 244, 116, 108, 103, 90, 177, 191],\n",
       " 8: [56, 160, 218, 57, 191, 167, 116, 153, 194, 120],\n",
       " 9: [136, 203, 165, 95, 102, 169, 41, 236, 141, 232],\n",
       " 10: [138, 11, 1, 13, 203, 26, 59, 65, 218, 3],\n",
       " 11: [214, 224, 37, 95, 133, 80, 11, 114, 41, 225],\n",
       " 12: [32, 44, 123, 37, 53, 83, 246, 33, 19, 217],\n",
       " 13: [88, 63, 9, 66, 126, 60, 36, 181, 192, 149],\n",
       " 14: [130, 139, 163, 20, 249, 77, 115, 129, 17, 206],\n",
       " 15: [25, 9, 107, 140, 153, 137, 145, 112, 225, 77]}"
      ]
     },
     "execution_count": 17,
     "metadata": {},
     "output_type": "execute_result"
    }
   ],
   "source": [
    "from textoperations import *\n",
    "size = 16\n",
    "\n",
    "blocks = makeBlocks(strings[0], size)\n",
    "\n",
    "numSame = 0\n",
    "\n",
    "block = blocks[0]\n",
    "\n",
    "for idx, val in enumerate(block):\n",
    "    for i in range(1,size):\n",
    "        if val == blocks[i][idx]:\n",
    "            numSame += 1\n",
    "\n",
    "blocks"
   ]
  },
  {
   "cell_type": "code",
   "execution_count": null,
   "metadata": {},
   "outputs": [],
   "source": [
    "import itertools as it\n",
    "\n",
    "for n, string in enumerate(strings):\n",
    "    \n",
    "    blocks = makeBlocks(strings[0], size)\n",
    "    # detect duplicates\n",
    "\n",
    "\n",
    "    \n",
    "records\n",
    "    \n"
   ]
  },
  {
   "cell_type": "code",
   "execution_count": null,
   "metadata": {},
   "outputs": [],
   "source": [
    "[ctxt[i*16:(i+1)*16] for i in range(num_blocks)]"
   ]
  },
  {
   "cell_type": "code",
   "execution_count": null,
   "metadata": {},
   "outputs": [],
   "source": []
  },
  {
   "cell_type": "code",
   "execution_count": null,
   "metadata": {},
   "outputs": [],
   "source": [
    "type(first)"
   ]
  },
  {
   "cell_type": "code",
   "execution_count": null,
   "metadata": {},
   "outputs": [],
   "source": [
    "type(b'first')"
   ]
  },
  {
   "cell_type": "code",
   "execution_count": null,
   "metadata": {},
   "outputs": [],
   "source": [
    "65 <= ord('a') <= 97"
   ]
  },
  {
   "cell_type": "code",
   "execution_count": null,
   "metadata": {},
   "outputs": [],
   "source": [
    "ord('z')"
   ]
  },
  {
   "cell_type": "code",
   "execution_count": null,
   "metadata": {},
   "outputs": [],
   "source": [
    "type('a')"
   ]
  },
  {
   "cell_type": "code",
   "execution_count": null,
   "metadata": {},
   "outputs": [],
   "source": [
    "type(65)"
   ]
  },
  {
   "cell_type": "code",
   "execution_count": null,
   "metadata": {},
   "outputs": [],
   "source": [
    "d = {}\n"
   ]
  },
  {
   "cell_type": "code",
   "execution_count": null,
   "metadata": {},
   "outputs": [],
   "source": [
    "if next(iter(d)):\n",
    "    print(1)"
   ]
  },
  {
   "cell_type": "code",
   "execution_count": null,
   "metadata": {},
   "outputs": [],
   "source": [
    "import collections\n",
    "d = collections.OrderedDict({1:1})"
   ]
  },
  {
   "cell_type": "code",
   "execution_count": null,
   "metadata": {},
   "outputs": [],
   "source": [
    "len(d.keys())"
   ]
  },
  {
   "cell_type": "code",
   "execution_count": 22,
   "metadata": {},
   "outputs": [],
   "source": [
    "d = {'a' : [1,2,3],\n",
    " 'b': [1,2,4] }"
   ]
  },
  {
   "cell_type": "code",
   "execution_count": 21,
   "metadata": {},
   "outputs": [],
   "source": [
    "import itertools as it"
   ]
  },
  {
   "cell_type": "code",
   "execution_count": 23,
   "metadata": {},
   "outputs": [
    {
     "name": "stdout",
     "output_type": "stream",
     "text": [
      "[(1, 1), (1, 2), (1, 4), (2, 1), (2, 2), (2, 4), (3, 1), (3, 2), (3, 4)]\n"
     ]
    }
   ],
   "source": [
    "combinations = it.product(*(d[key] for key in d))\n",
    "print(list(combinations))"
   ]
  },
  {
   "cell_type": "code",
   "execution_count": null,
   "metadata": {},
   "outputs": [],
   "source": []
  }
 ],
 "metadata": {
  "kernelspec": {
   "display_name": "Python 3",
   "language": "python",
   "name": "python3"
  },
  "language_info": {
   "codemirror_mode": {
    "name": "ipython",
    "version": 3
   },
   "file_extension": ".py",
   "mimetype": "text/x-python",
   "name": "python",
   "nbconvert_exporter": "python",
   "pygments_lexer": "ipython3",
   "version": "3.6.8"
  }
 },
 "nbformat": 4,
 "nbformat_minor": 2
}
