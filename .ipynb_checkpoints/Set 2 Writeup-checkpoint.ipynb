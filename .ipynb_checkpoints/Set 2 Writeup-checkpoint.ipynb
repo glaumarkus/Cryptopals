{
 "cells": [
  {
   "cell_type": "markdown",
   "metadata": {},
   "source": [
    "<h1>Set 2</h1>\n",
    "<h5>Challenge 9</h5>\n",
    "<p>Implement PKCS#7 padding</p>"
   ]
  },
  {
   "cell_type": "code",
   "execution_count": 31,
   "metadata": {},
   "outputs": [
    {
     "data": {
      "text/plain": [
       "True"
      ]
     },
     "execution_count": 31,
     "metadata": {},
     "output_type": "execute_result"
    }
   ],
   "source": [
    "from converters import *\n",
    "\n",
    "def pkcs7padding(plaintext, blocksize=16):\n",
    "    size = len(plaintext)\n",
    "    numBlocks = size // blocksize + 1\n",
    "    numPads = blocksize - (size % blocksize)\n",
    "    return plaintext + bytes2str(numPads * (numPads).to_bytes(1, byteorder='little'))\n",
    "\n",
    "plaintext = \"YELLOW SUBMARINE\"\n",
    "result = \"YELLOW SUBMARINE\\x04\\x04\\x04\\x04\"\n",
    "pkcs7padding(plaintext, 20) == result"
   ]
  },
  {
   "cell_type": "markdown",
   "metadata": {},
   "source": [
    "<h5>Challenge 10</h5>\n",
    "<p>Implement CBC</p>"
   ]
  },
  {
   "cell_type": "code",
   "execution_count": 141,
   "metadata": {},
   "outputs": [],
   "source": [
    "with open(\"files/2_10.txt\", 'r') as f:\n",
    "    data = str2bytes(f.read())"
   ]
  },
  {
   "cell_type": "code",
   "execution_count": 142,
   "metadata": {},
   "outputs": [],
   "source": [
    "from crypto import *\n",
    "from Crypto.Cipher import AES\n",
    "from math import ceil\n",
    "\n",
    "def makeAESBlocks(data,blocksize=16, padding=True):\n",
    "    if padding:\n",
    "        data = pkcs7padding(data, blocksize)\n",
    "    numBlocks = ceil(len(data) / blocksize)\n",
    "    return [data[i * blocksize : i * blocksize + blocksize] for i in range(numBlocks)]\n",
    "\n",
    "class Cipher:\n",
    "    \n",
    "    def __init__(self, key, blocksize=16):\n",
    "        self.cipher = AES.new(key, AES.MODE_ECB)\n",
    "        self.blocksize = blocksize\n",
    "        \n",
    "    def encryptBlockECB(self, plaintext):\n",
    "        ciphertext = self.cipher.encrypt(plaintext)\n",
    "        return ciphertext\n",
    "\n",
    "    def decryptBlockECB(self, ciphertext):\n",
    "        plaintext = self.cipher.decrypt(ciphertext)\n",
    "        return plaintext\n",
    "\n",
    "    def encryptECB(self, plaintext):\n",
    "        # add padding\n",
    "        blocks = makeAESBlocks(plaintext, self.blocksize)\n",
    "        ciphertext = b''.join([self.encryptBlockECB(block) for block in blocks])\n",
    "        return ciphertext\n",
    "    \n",
    "    def decryptECB(self, ciphertext):\n",
    "        blocks = makeAESBlocks(ciphertext, self.blocksize, padding=False)\n",
    "        plaintext = b''.join([self.decryptBlockECB(block) for block in blocks])\n",
    "        # remove padding\n",
    "        if type(plaintext[-1]) == int:\n",
    "            plaintext = plaintext[:-plaintext[-1]]\n",
    "        return bytes2str(plaintext)"
   ]
  },
  {
   "cell_type": "code",
   "execution_count": 143,
   "metadata": {},
   "outputs": [
    {
     "data": {
      "text/plain": [
       "'HalloHalloHalloHalloHalloHalloHallo'"
      ]
     },
     "execution_count": 143,
     "metadata": {},
     "output_type": "execute_result"
    }
   ],
   "source": [
    "# Testing ECB Class\n",
    "cipher = Cipher('YELLOW SUBMARINE')\n",
    "ciphertext = cipher.encryptECB('HalloHalloHalloHalloHalloHalloHallo')\n",
    "cipher.decryptECB(ciphertext)"
   ]
  },
  {
   "cell_type": "code",
   "execution_count": 176,
   "metadata": {},
   "outputs": [],
   "source": [
    "class CBC(Cipher):\n",
    "    \n",
    "    def __init__(self, key, iv, blocksize=16):\n",
    "        # init base cipher\n",
    "        super(CBC,self).__init__(key, blocksize)\n",
    "        self.iv = iv\n",
    "    \n",
    "    def encrypt(self, plaintext):\n",
    "        \n",
    "        # make blocks\n",
    "        blocks = makeAESBlocks(plaintext, self.blocksize, padding=True)\n",
    "        newKey = self.iv\n",
    "        ciphertext = b''\n",
    "        \n",
    "        for block in blocks:\n",
    "            block = XOR(str2bytes(block), newKey)\n",
    "            newKey = self.encryptBlockECB(bytes(block))\n",
    "            ciphertext += newKey\n",
    "            \n",
    "        return ciphertext\n",
    "    \n",
    "    def decrypt(self, ciphertext):\n",
    "        \n",
    "        blocks = makeAESBlocks(ciphertext, self.blocksize, padding=False)\n",
    "        newKey = self.iv\n",
    "        plaintext = b''\n",
    "        \n",
    "        for block in blocks:\n",
    "    \n",
    "            changedBlock = self.decryptBlockECB(block)\n",
    "            plaintext += XOR(block, newKey)\n",
    "            print(changedBlock)\n",
    "            print(XOR(block, newKey))\n",
    "            newKey = block\n",
    "            \n",
    "        return plaintext\n",
    "        \n",
    "\n"
   ]
  },
  {
   "cell_type": "code",
   "execution_count": null,
   "metadata": {},
   "outputs": [],
   "source": [
    "cbc = CBC(key = b'YELLOW SUBMARINE', iv=b'\\x00\\x00\\x00 &c')\n",
    "\n",
    "blocks = makeAESBlocks('Hallo das ist ein cbc test', 16, padding=True)\n",
    "\n",
    "newKey = b'\\x00\\x00\\x00 &c'\n",
    "ciphertext = b''\n",
    "\n",
    "blocks\n",
    "\n",
    "for block in blocks:\n",
    "    block = XOR(str2bytes(block), newKey)\n",
    "    newKey = cipher.encryptBlockECB(bytes(block))\n",
    "    ciphertext += newKey\n",
    "\n",
    "ciphertext"
   ]
  },
  {
   "cell_type": "code",
   "execution_count": 177,
   "metadata": {},
   "outputs": [
    {
     "data": {
      "text/plain": [
       "b'oZh\\xb5\\x00**7\\x97A\\x9b:\\xc2\\xe9(\\xee/\\xd1EZ\\xfe\\xe8\\x8fn)\\x0b>\\x1f\\xb2O\\x89\\x17'"
      ]
     },
     "execution_count": 177,
     "metadata": {},
     "output_type": "execute_result"
    }
   ],
   "source": [
    "cbc = CBC(key = b'YELLOW SUBMARINE', iv=b'\\x00\\x00\\x00 &c')\n",
    "msg = cbc.encrypt(\"Hallo das ist ein cbc test\")\n",
    "cbc.decrypt(msg)"
   ]
  },
  {
   "cell_type": "code",
   "execution_count": 178,
   "metadata": {},
   "outputs": [],
   "source": [
    "cbc = CBC(key = b'YELLOW SUBMARINE', iv=b'\\x00\\x00\\x00 &c')"
   ]
  },
  {
   "cell_type": "code",
   "execution_count": 180,
   "metadata": {},
   "outputs": [
    {
     "data": {
      "text/plain": [
       "b'\\xcd\\x00\\xa4}\\xacs\\r\\x00gq\\x0bY\\x8b\\xccO\\xc8'"
      ]
     },
     "execution_count": 180,
     "metadata": {},
     "output_type": "execute_result"
    }
   ],
   "source": [
    "plaintext = \"Markus\"\n",
    "\n",
    "# make blocks\n",
    "blocks = makeAESBlocks(plaintext, 16, padding=True)\n",
    "newKey = cbc.iv\n",
    "ciphertext = b''\n",
    "\n",
    "for block in blocks:\n",
    "    block = XOR(str2bytes(block), newKey)\n",
    "    newKey = cbc.encryptBlockECB(bytes(block))\n",
    "    ciphertext += newKey\n",
    "ciphertext"
   ]
  },
  {
   "cell_type": "code",
   "execution_count": 182,
   "metadata": {},
   "outputs": [
    {
     "data": {
      "text/plain": [
       "bytearray(b'Markus\\n\\n\\n\\n\\n\\n\\n\\n\\n\\n')"
      ]
     },
     "execution_count": 182,
     "metadata": {},
     "output_type": "execute_result"
    }
   ],
   "source": [
    "XOR(cbc.decryptBlockECB(ciphertext), cbc.iv)"
   ]
  },
  {
   "cell_type": "code",
   "execution_count": null,
   "metadata": {},
   "outputs": [],
   "source": [
    "def decrypt(self, ciphertext):\n",
    "\n",
    "    blocks = makeAESBlocks(ciphertext, self.blocksize, padding=False)\n",
    "    newKey = self.iv\n",
    "    plaintext = b''\n",
    "\n",
    "    for block in blocks:\n",
    "\n",
    "        changedBlock = self.decryptBlockECB(block)\n",
    "        print(changedBlock)\n",
    "        print(XOR(block, newKey))\n",
    "        plaintext += XOR(block, newKey)\n",
    "        newKey = block\n",
    "\n",
    "    return plaintext"
   ]
  },
  {
   "cell_type": "code",
   "execution_count": null,
   "metadata": {},
   "outputs": [],
   "source": []
  },
  {
   "cell_type": "code",
   "execution_count": null,
   "metadata": {},
   "outputs": [],
   "source": []
  },
  {
   "cell_type": "code",
   "execution_count": null,
   "metadata": {},
   "outputs": [],
   "source": []
  },
  {
   "cell_type": "code",
   "execution_count": 22,
   "metadata": {},
   "outputs": [
    {
     "data": {
      "text/plain": [
       "b'MARKUS ABC MARKU'"
      ]
     },
     "execution_count": 22,
     "metadata": {},
     "output_type": "execute_result"
    }
   ],
   "source": [
    "cipher.decrypt(b'\\xee\\n\\xf1s\\xc0\\xc1\\xbam\\x85\\xdc\\x95\\x86\\x13\\xb7\\x81i')"
   ]
  },
  {
   "cell_type": "code",
   "execution_count": 23,
   "metadata": {},
   "outputs": [],
   "source": [
    "def encryptBlock(plaintext, key):\n",
    "    cipher = AES.new(key, AES.MODE_ECB)\n",
    "    ciphertext = cipher.encrypt(plaintext)\n",
    "    return ciphertext\n",
    "\n",
    "def decryptBlock(ciphertext, key):\n",
    "    cipher = AES.new(key, AES.MODE_ECB)\n",
    "    plaintext = cipher.decrypt(ciphertext)\n",
    "    return plaintext"
   ]
  },
  {
   "cell_type": "code",
   "execution_count": 7,
   "metadata": {},
   "outputs": [
    {
     "data": {
      "text/plain": [
       "['MARKUS ABC MARKU', 'S ABC']"
      ]
     },
     "execution_count": 7,
     "metadata": {},
     "output_type": "execute_result"
    }
   ],
   "source": [
    "data = 'MARKUS ABC MARKUS ABC'\n",
    "blocksize = 16\n",
    "numBlocks = ceil(len(data) / blocksize)\n",
    "blocks = [data[i * blocksize : i * blocksize + blocksize] for i in range(numBlocks)]\n",
    "#blocks[-1] = pkcs7padding(blocks[:-1], blocksize)\n",
    "#    return blocks\n",
    "blocks"
   ]
  },
  {
   "cell_type": "code",
   "execution_count": 30,
   "metadata": {},
   "outputs": [
    {
     "name": "stdout",
     "output_type": "stream",
     "text": [
      "21 2 11\n"
     ]
    },
    {
     "data": {
      "text/plain": [
       "'MARKUS ABC MARKUS ABC\\x0b\\x0b\\x0b\\x0b\\x0b\\x0b\\x0b\\x0b\\x0b\\x0b\\x0b'"
      ]
     },
     "execution_count": 30,
     "metadata": {},
     "output_type": "execute_result"
    }
   ],
   "source": [
    "pkcs7padding(data, blocksize)"
   ]
  },
  {
   "cell_type": "code",
   "execution_count": 20,
   "metadata": {},
   "outputs": [
    {
     "data": {
      "text/plain": [
       "b'\\x0b'"
      ]
     },
     "execution_count": 20,
     "metadata": {},
     "output_type": "execute_result"
    }
   ],
   "source": [
    "(16 - 5).to_bytes(1,'little')"
   ]
  },
  {
   "cell_type": "code",
   "execution_count": 28,
   "metadata": {},
   "outputs": [],
   "source": [
    "def pkcs7padding(plaintext, blocksize=16):\n",
    "    size = len(plaintext)\n",
    "    numBlocks = size // blocksize + 1\n",
    "    numPads = blocksize - (size % blocksize)\n",
    "    return plaintext + bytes2str(numPads * (numPads).to_bytes(1, byteorder='little'))"
   ]
  },
  {
   "cell_type": "code",
   "execution_count": 29,
   "metadata": {},
   "outputs": [
    {
     "data": {
      "text/plain": [
       "5"
      ]
     },
     "execution_count": 29,
     "metadata": {},
     "output_type": "execute_result"
    }
   ],
   "source": [
    "21 % 16"
   ]
  },
  {
   "cell_type": "code",
   "execution_count": null,
   "metadata": {},
   "outputs": [],
   "source": []
  }
 ],
 "metadata": {
  "kernelspec": {
   "display_name": "Python 3",
   "language": "python",
   "name": "python3"
  },
  "language_info": {
   "codemirror_mode": {
    "name": "ipython",
    "version": 3
   },
   "file_extension": ".py",
   "mimetype": "text/x-python",
   "name": "python",
   "nbconvert_exporter": "python",
   "pygments_lexer": "ipython3",
   "version": "3.7.4"
  }
 },
 "nbformat": 4,
 "nbformat_minor": 2
}
